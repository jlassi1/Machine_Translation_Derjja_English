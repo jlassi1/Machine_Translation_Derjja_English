{
  "nbformat": 4,
  "nbformat_minor": 0,
  "metadata": {
    "colab": {
      "name": "attention.ipynb",
      "provenance": []
    },
    "kernelspec": {
      "display_name": "Python 3",
      "name": "python3"
    },
    "language_info": {
      "name": "python"
    },
    "accelerator": "GPU"
  },
  "cells": [
    {
      "cell_type": "code",
      "metadata": {
        "colab": {
          "base_uri": "https://localhost:8080/"
        },
        "id": "r6Z4OPhc-OaN",
        "outputId": "7be2f188-3829-4289-e233-740b872b03a3"
      },
      "source": [
        "!pip install -q tfds-nightly\n",
        "!pip install tensorflow_text\n",
        "import numpy as np\n",
        "\n",
        "import typing\n",
        "from typing import Any, Tuple\n",
        "\n",
        "import tensorflow as tf\n",
        "from tensorflow.keras.layers.experimental import preprocessing\n",
        "\n",
        "import tensorflow_text as tf_text\n",
        "\n",
        "import matplotlib.pyplot as plt\n",
        "import matplotlib.ticker as ticker\n",
        "import time\n",
        "import numpy as np\n",
        "import matplotlib.pyplot as plt\n",
        "import pandas as pd\n",
        "import numpy as np\n",
        "import string\n",
        "from string import digits\n",
        "import matplotlib.pyplot as plt\n",
        "import seaborn as sns\n",
        "%matplotlib inline\n",
        "import re\n",
        "\n",
        "from sklearn.model_selection import train_test_split\n",
        "\n",
        "from keras.layers import Input, LSTM, Embedding, Dense, Bidirectional, Concatenate, Dot, Activation, TimeDistributed\n",
        "from keras.models import Model\n",
        "# from keras.utils import plot_model\n",
        "\n",
        "import time\n",
        "import pandas as pd\n",
        "\n"
      ],
      "execution_count": 1,
      "outputs": [
        {
          "output_type": "stream",
          "name": "stdout",
          "text": [
            "\u001b[K     |████████████████████████████████| 4.0 MB 5.4 MB/s \n",
            "\u001b[?25hCollecting tensorflow_text\n",
            "  Downloading tensorflow_text-2.6.0-cp37-cp37m-manylinux1_x86_64.whl (4.4 MB)\n",
            "\u001b[K     |████████████████████████████████| 4.4 MB 5.3 MB/s \n",
            "\u001b[?25hRequirement already satisfied: tensorflow<2.7,>=2.6.0 in /usr/local/lib/python3.7/dist-packages (from tensorflow_text) (2.6.0)\n",
            "Requirement already satisfied: tensorflow-hub>=0.8.0 in /usr/local/lib/python3.7/dist-packages (from tensorflow_text) (0.12.0)\n",
            "Requirement already satisfied: tensorboard~=2.6 in /usr/local/lib/python3.7/dist-packages (from tensorflow<2.7,>=2.6.0->tensorflow_text) (2.6.0)\n",
            "Requirement already satisfied: tensorflow-estimator~=2.6 in /usr/local/lib/python3.7/dist-packages (from tensorflow<2.7,>=2.6.0->tensorflow_text) (2.6.0)\n",
            "Requirement already satisfied: clang~=5.0 in /usr/local/lib/python3.7/dist-packages (from tensorflow<2.7,>=2.6.0->tensorflow_text) (5.0)\n",
            "Requirement already satisfied: gast==0.4.0 in /usr/local/lib/python3.7/dist-packages (from tensorflow<2.7,>=2.6.0->tensorflow_text) (0.4.0)\n",
            "Requirement already satisfied: absl-py~=0.10 in /usr/local/lib/python3.7/dist-packages (from tensorflow<2.7,>=2.6.0->tensorflow_text) (0.12.0)\n",
            "Requirement already satisfied: flatbuffers~=1.12.0 in /usr/local/lib/python3.7/dist-packages (from tensorflow<2.7,>=2.6.0->tensorflow_text) (1.12)\n",
            "Requirement already satisfied: opt-einsum~=3.3.0 in /usr/local/lib/python3.7/dist-packages (from tensorflow<2.7,>=2.6.0->tensorflow_text) (3.3.0)\n",
            "Requirement already satisfied: typing-extensions~=3.7.4 in /usr/local/lib/python3.7/dist-packages (from tensorflow<2.7,>=2.6.0->tensorflow_text) (3.7.4.3)\n",
            "Requirement already satisfied: grpcio<2.0,>=1.37.0 in /usr/local/lib/python3.7/dist-packages (from tensorflow<2.7,>=2.6.0->tensorflow_text) (1.39.0)\n",
            "Requirement already satisfied: astunparse~=1.6.3 in /usr/local/lib/python3.7/dist-packages (from tensorflow<2.7,>=2.6.0->tensorflow_text) (1.6.3)\n",
            "Requirement already satisfied: keras-preprocessing~=1.1.2 in /usr/local/lib/python3.7/dist-packages (from tensorflow<2.7,>=2.6.0->tensorflow_text) (1.1.2)\n",
            "Requirement already satisfied: wheel~=0.35 in /usr/local/lib/python3.7/dist-packages (from tensorflow<2.7,>=2.6.0->tensorflow_text) (0.37.0)\n",
            "Requirement already satisfied: termcolor~=1.1.0 in /usr/local/lib/python3.7/dist-packages (from tensorflow<2.7,>=2.6.0->tensorflow_text) (1.1.0)\n",
            "Requirement already satisfied: six~=1.15.0 in /usr/local/lib/python3.7/dist-packages (from tensorflow<2.7,>=2.6.0->tensorflow_text) (1.15.0)\n",
            "Requirement already satisfied: keras~=2.6 in /usr/local/lib/python3.7/dist-packages (from tensorflow<2.7,>=2.6.0->tensorflow_text) (2.6.0)\n",
            "Requirement already satisfied: google-pasta~=0.2 in /usr/local/lib/python3.7/dist-packages (from tensorflow<2.7,>=2.6.0->tensorflow_text) (0.2.0)\n",
            "Requirement already satisfied: numpy~=1.19.2 in /usr/local/lib/python3.7/dist-packages (from tensorflow<2.7,>=2.6.0->tensorflow_text) (1.19.5)\n",
            "Requirement already satisfied: h5py~=3.1.0 in /usr/local/lib/python3.7/dist-packages (from tensorflow<2.7,>=2.6.0->tensorflow_text) (3.1.0)\n",
            "Requirement already satisfied: protobuf>=3.9.2 in /usr/local/lib/python3.7/dist-packages (from tensorflow<2.7,>=2.6.0->tensorflow_text) (3.17.3)\n",
            "Requirement already satisfied: wrapt~=1.12.1 in /usr/local/lib/python3.7/dist-packages (from tensorflow<2.7,>=2.6.0->tensorflow_text) (1.12.1)\n",
            "Requirement already satisfied: cached-property in /usr/local/lib/python3.7/dist-packages (from h5py~=3.1.0->tensorflow<2.7,>=2.6.0->tensorflow_text) (1.5.2)\n",
            "Requirement already satisfied: google-auth<2,>=1.6.3 in /usr/local/lib/python3.7/dist-packages (from tensorboard~=2.6->tensorflow<2.7,>=2.6.0->tensorflow_text) (1.34.0)\n",
            "Requirement already satisfied: markdown>=2.6.8 in /usr/local/lib/python3.7/dist-packages (from tensorboard~=2.6->tensorflow<2.7,>=2.6.0->tensorflow_text) (3.3.4)\n",
            "Requirement already satisfied: google-auth-oauthlib<0.5,>=0.4.1 in /usr/local/lib/python3.7/dist-packages (from tensorboard~=2.6->tensorflow<2.7,>=2.6.0->tensorflow_text) (0.4.5)\n",
            "Requirement already satisfied: setuptools>=41.0.0 in /usr/local/lib/python3.7/dist-packages (from tensorboard~=2.6->tensorflow<2.7,>=2.6.0->tensorflow_text) (57.4.0)\n",
            "Requirement already satisfied: tensorboard-plugin-wit>=1.6.0 in /usr/local/lib/python3.7/dist-packages (from tensorboard~=2.6->tensorflow<2.7,>=2.6.0->tensorflow_text) (1.8.0)\n",
            "Requirement already satisfied: werkzeug>=0.11.15 in /usr/local/lib/python3.7/dist-packages (from tensorboard~=2.6->tensorflow<2.7,>=2.6.0->tensorflow_text) (1.0.1)\n",
            "Requirement already satisfied: requests<3,>=2.21.0 in /usr/local/lib/python3.7/dist-packages (from tensorboard~=2.6->tensorflow<2.7,>=2.6.0->tensorflow_text) (2.23.0)\n",
            "Requirement already satisfied: tensorboard-data-server<0.7.0,>=0.6.0 in /usr/local/lib/python3.7/dist-packages (from tensorboard~=2.6->tensorflow<2.7,>=2.6.0->tensorflow_text) (0.6.1)\n",
            "Requirement already satisfied: rsa<5,>=3.1.4 in /usr/local/lib/python3.7/dist-packages (from google-auth<2,>=1.6.3->tensorboard~=2.6->tensorflow<2.7,>=2.6.0->tensorflow_text) (4.7.2)\n",
            "Requirement already satisfied: pyasn1-modules>=0.2.1 in /usr/local/lib/python3.7/dist-packages (from google-auth<2,>=1.6.3->tensorboard~=2.6->tensorflow<2.7,>=2.6.0->tensorflow_text) (0.2.8)\n",
            "Requirement already satisfied: cachetools<5.0,>=2.0.0 in /usr/local/lib/python3.7/dist-packages (from google-auth<2,>=1.6.3->tensorboard~=2.6->tensorflow<2.7,>=2.6.0->tensorflow_text) (4.2.2)\n",
            "Requirement already satisfied: requests-oauthlib>=0.7.0 in /usr/local/lib/python3.7/dist-packages (from google-auth-oauthlib<0.5,>=0.4.1->tensorboard~=2.6->tensorflow<2.7,>=2.6.0->tensorflow_text) (1.3.0)\n",
            "Requirement already satisfied: importlib-metadata in /usr/local/lib/python3.7/dist-packages (from markdown>=2.6.8->tensorboard~=2.6->tensorflow<2.7,>=2.6.0->tensorflow_text) (4.6.4)\n",
            "Requirement already satisfied: pyasn1<0.5.0,>=0.4.6 in /usr/local/lib/python3.7/dist-packages (from pyasn1-modules>=0.2.1->google-auth<2,>=1.6.3->tensorboard~=2.6->tensorflow<2.7,>=2.6.0->tensorflow_text) (0.4.8)\n",
            "Requirement already satisfied: certifi>=2017.4.17 in /usr/local/lib/python3.7/dist-packages (from requests<3,>=2.21.0->tensorboard~=2.6->tensorflow<2.7,>=2.6.0->tensorflow_text) (2021.5.30)\n",
            "Requirement already satisfied: idna<3,>=2.5 in /usr/local/lib/python3.7/dist-packages (from requests<3,>=2.21.0->tensorboard~=2.6->tensorflow<2.7,>=2.6.0->tensorflow_text) (2.10)\n",
            "Requirement already satisfied: urllib3!=1.25.0,!=1.25.1,<1.26,>=1.21.1 in /usr/local/lib/python3.7/dist-packages (from requests<3,>=2.21.0->tensorboard~=2.6->tensorflow<2.7,>=2.6.0->tensorflow_text) (1.24.3)\n",
            "Requirement already satisfied: chardet<4,>=3.0.2 in /usr/local/lib/python3.7/dist-packages (from requests<3,>=2.21.0->tensorboard~=2.6->tensorflow<2.7,>=2.6.0->tensorflow_text) (3.0.4)\n",
            "Requirement already satisfied: oauthlib>=3.0.0 in /usr/local/lib/python3.7/dist-packages (from requests-oauthlib>=0.7.0->google-auth-oauthlib<0.5,>=0.4.1->tensorboard~=2.6->tensorflow<2.7,>=2.6.0->tensorflow_text) (3.1.1)\n",
            "Requirement already satisfied: zipp>=0.5 in /usr/local/lib/python3.7/dist-packages (from importlib-metadata->markdown>=2.6.8->tensorboard~=2.6->tensorflow<2.7,>=2.6.0->tensorflow_text) (3.5.0)\n",
            "Installing collected packages: tensorflow-text\n",
            "Successfully installed tensorflow-text-2.6.0\n"
          ]
        }
      ]
    },
    {
      "cell_type": "code",
      "metadata": {
        "id": "ybJ7hxbX-zB9"
      },
      "source": [
        "use_builtins = True"
      ],
      "execution_count": 2,
      "outputs": []
    },
    {
      "cell_type": "code",
      "metadata": {
        "id": "-kd55eVZ-aMS"
      },
      "source": [
        "\n",
        "df = pd.read_csv('/content/pure_tunis_english_data.csv')\n",
        "\n",
        "train_data, valid_data = train_test_split(df, test_size=0.2, random_state = 42)\n",
        "train_data.to_csv('train_data.csv')\n",
        "valid_data.to_csv('valid_data.csv')\n",
        "\n",
        "train = pd.read_csv('/content/train_data.csv')\n",
        "valid = pd.read_csv('/content/valid_data.csv')\n"
      ],
      "execution_count": 3,
      "outputs": []
    },
    {
      "cell_type": "code",
      "metadata": {
        "id": "4DYTNAF3_INt"
      },
      "source": [
        "\n",
        "targ, inp = [], []\n",
        "for eng in train['en']:\n",
        "  targ.append(eng)\n",
        "for tun in train['tn']:\n",
        "  inp.append(tun)\n",
        "# train_examples = tf.data.Dataset.from_tensor_slices((inputs,targets))\n"
      ],
      "execution_count": 4,
      "outputs": []
    },
    {
      "cell_type": "code",
      "metadata": {
        "id": "2bNV-pdo_QoU"
      },
      "source": [
        "BUFFER_SIZE = len(inp)\n",
        "BATCH_SIZE = 64\n",
        "\n",
        "dataset = tf.data.Dataset.from_tensor_slices((inp, targ)).shuffle(BUFFER_SIZE)\n",
        "dataset = dataset.batch(BATCH_SIZE)"
      ],
      "execution_count": 5,
      "outputs": []
    },
    {
      "cell_type": "code",
      "metadata": {
        "colab": {
          "base_uri": "https://localhost:8080/"
        },
        "id": "StN-4m1f_Syc",
        "outputId": "d8326425-25af-45f1-d6d9-e7e1b3c1bddd"
      },
      "source": [
        "for example_input_batch, example_target_batch in dataset.take(1):\n",
        "  print(example_input_batch[:5])\n",
        "  print()\n",
        "  print(example_target_batch[:5])\n",
        "  break"
      ],
      "execution_count": 6,
      "outputs": [
        {
          "output_type": "stream",
          "name": "stdout",
          "text": [
            "tf.Tensor(\n",
            "[b'\\xd8\\xaa\\xd9\\x92\\xd9\\x88\\xd9\\x8e\\xd9\\x87\\xd9\\x91\\xd9\\x90\\xd8\\xac\\xd9\\x92'\n",
            " b'\\xd9\\x86\\xd9\\x8e\\xd8\\xa7\\xd8\\xb1\\xd9\\x92 \\xd9\\x85\\xd9\\x8f\\xd9\\x88\\xd9\\x82\\xd9\\x92\\xd8\\xaf\\xd9\\x8e\\xd8\\xa9\\xd9\\x92'\n",
            " b'\\xd8\\xb7\\xd9\\x8e\\xd8\\xa7\\xd8\\xba\\xd9\\x8f\\xd9\\x88\\xd8\\xaa\\xd9\\x92'\n",
            " b'\\xd9\\x83\\xd9\\x8e\\xd8\\xa7\\xd9\\x84\\xd9\\x90\\xd9\\x8a\\xd8\\xb3\\xd9\\x92'\n",
            " b'\\xd9\\x81\\xd9\\x92\\xd9\\x84\\xd9\\x8e\\xd8\\xa7\\xd8\\xb4\\xd9\\x92'], shape=(5,), dtype=string)\n",
            "\n",
            "tf.Tensor(\n",
            "[b'glow, shine' b'very hot fire' b'tyrant, despot' b'horse cart'\n",
            " b'quick spot on TV'], shape=(5,), dtype=string)\n"
          ]
        }
      ]
    },
    {
      "cell_type": "code",
      "metadata": {
        "colab": {
          "base_uri": "https://localhost:8080/"
        },
        "id": "7pid0W8r_VRT",
        "outputId": "c42acabf-eb62-41d6-abd7-7aa5b77898c2"
      },
      "source": [
        "example_text = tf.constant(\"شد الحبل بالقوي وماتسيبوش\")\n",
        "\n",
        "print(example_text.numpy())\n",
        "print(tf_text.normalize_utf8(example_text, 'NFKD').numpy())"
      ],
      "execution_count": 7,
      "outputs": [
        {
          "output_type": "stream",
          "name": "stdout",
          "text": [
            "b'\\xd8\\xb4\\xd8\\xaf \\xd8\\xa7\\xd9\\x84\\xd8\\xad\\xd8\\xa8\\xd9\\x84 \\xd8\\xa8\\xd8\\xa7\\xd9\\x84\\xd9\\x82\\xd9\\x88\\xd9\\x8a \\xd9\\x88\\xd9\\x85\\xd8\\xa7\\xd8\\xaa\\xd8\\xb3\\xd9\\x8a\\xd8\\xa8\\xd9\\x88\\xd8\\xb4'\n",
            "b'\\xd8\\xb4\\xd8\\xaf \\xd8\\xa7\\xd9\\x84\\xd8\\xad\\xd8\\xa8\\xd9\\x84 \\xd8\\xa8\\xd8\\xa7\\xd9\\x84\\xd9\\x82\\xd9\\x88\\xd9\\x8a \\xd9\\x88\\xd9\\x85\\xd8\\xa7\\xd8\\xaa\\xd8\\xb3\\xd9\\x8a\\xd8\\xa8\\xd9\\x88\\xd8\\xb4'\n"
          ]
        }
      ]
    },
    {
      "cell_type": "code",
      "metadata": {
        "id": "0wSitTaj_llX"
      },
      "source": [
        "def tf_lower_and_split_punct(text):\n",
        "  # Split accecented characters.\n",
        "  text = tf_text.normalize_utf8(text, 'NFKD')\n",
        "  text = tf.strings.lower(text)\n",
        "  # Keep space, a to z, and select punctuation.\n",
        "  text = tf.strings.regex_replace(text, '[^ a-z.?!,¿]', '')\n",
        "  # Add spaces around punctuation.\n",
        "  text = tf.strings.regex_replace(text, '[.?!,¿]', r' \\0 ')\n",
        "  # Strip whitespace.\n",
        "  text = tf.strings.strip(text)\n",
        "\n",
        "  text = tf.strings.join(['[START]', text, '[END]'], separator=' ')\n",
        "  return text\n",
        "def tf_tun_pre(text):\n",
        "  # Split accecented characters.\n",
        "  text = tf_text.normalize_utf8(text, 'NFKD')\n",
        "  # Add spaces around punctuation.\n",
        "  text = tf.strings.regex_replace(text, '[.?!,¿]', r' \\0 ')\n",
        "  # Strip whitespace.\n",
        "  text = tf.strings.strip(text)\n",
        "\n",
        "  text = tf.strings.join(['[START]', text, '[END]'], separator=' ')\n",
        "  return text"
      ],
      "execution_count": 8,
      "outputs": []
    },
    {
      "cell_type": "code",
      "metadata": {
        "colab": {
          "base_uri": "https://localhost:8080/"
        },
        "id": "p7tmPIor_pSL",
        "outputId": "94411bad-7e94-45b4-9866-03d3531e1ce1"
      },
      "source": [
        "print(example_text.numpy().decode())\n",
        "print(tf_tun_pre(example_text).numpy().decode())"
      ],
      "execution_count": 9,
      "outputs": [
        {
          "output_type": "stream",
          "name": "stdout",
          "text": [
            "شد الحبل بالقوي وماتسيبوش\n",
            "[START] شد الحبل بالقوي وماتسيبوش [END]\n"
          ]
        }
      ]
    },
    {
      "cell_type": "code",
      "metadata": {
        "id": "0juTpiw__rJx"
      },
      "source": [
        "max_vocab_size = 5000\n",
        "\n",
        "input_text_processor = preprocessing.TextVectorization(\n",
        "    standardize=tf_tun_pre,\n",
        "    max_tokens=max_vocab_size)"
      ],
      "execution_count": 10,
      "outputs": []
    },
    {
      "cell_type": "code",
      "metadata": {
        "colab": {
          "base_uri": "https://localhost:8080/"
        },
        "id": "-uWsvD_5_tmP",
        "outputId": "e9266e54-d623-464d-f06c-91839697afbc"
      },
      "source": [
        "input_text_processor.adapt(inp)\n",
        "\n",
        "# Here are the first 10 words from the vocabulary:\n",
        "input_text_processor.get_vocabulary()[:10]"
      ],
      "execution_count": 11,
      "outputs": [
        {
          "output_type": "execute_result",
          "data": {
            "text/plain": [
              "['',\n",
              " '[UNK]',\n",
              " '[START]',\n",
              " '[END]',\n",
              " 'فِي',\n",
              " 'مَا',\n",
              " 'عَلَى',\n",
              " 'مْتَاعْ',\n",
              " 'عْمَلْ',\n",
              " 'عْلِيهْ']"
            ]
          },
          "metadata": {},
          "execution_count": 11
        }
      ]
    },
    {
      "cell_type": "code",
      "metadata": {
        "colab": {
          "base_uri": "https://localhost:8080/"
        },
        "id": "H1cc4vLp_vzK",
        "outputId": "e17b1ff3-9472-4f1c-ccbd-62043ede97f5"
      },
      "source": [
        "output_text_processor = preprocessing.TextVectorization(\n",
        "    standardize=tf_lower_and_split_punct,\n",
        "    max_tokens=max_vocab_size)\n",
        "\n",
        "output_text_processor.adapt(targ)\n",
        "output_text_processor.get_vocabulary()[:10]"
      ],
      "execution_count": 12,
      "outputs": [
        {
          "output_type": "execute_result",
          "data": {
            "text/plain": [
              "['', '[UNK]', '[START]', '[END]', ',', 'to', 'a', 'the', 'of', 'he']"
            ]
          },
          "metadata": {},
          "execution_count": 12
        }
      ]
    },
    {
      "cell_type": "code",
      "metadata": {
        "colab": {
          "base_uri": "https://localhost:8080/"
        },
        "id": "guXyF10O_xrA",
        "outputId": "45bc2360-0854-44f5-bc39-8488e1ff8e8c"
      },
      "source": [
        "example_tokens = input_text_processor(example_input_batch)\n",
        "example_tokens[:3, :10]"
      ],
      "execution_count": 13,
      "outputs": [
        {
          "output_type": "execute_result",
          "data": {
            "text/plain": [
              "<tf.Tensor: shape=(3, 9), dtype=int64, numpy=\n",
              "array([[   2,    1,    3,    0,    0,    0,    0,    0,    0],\n",
              "       [   2,   54,  870,    3,    0,    0,    0,    0,    0],\n",
              "       [   2, 1276,    3,    0,    0,    0,    0,    0,    0]])>"
            ]
          },
          "metadata": {},
          "execution_count": 13
        }
      ]
    },
    {
      "cell_type": "code",
      "metadata": {
        "colab": {
          "base_uri": "https://localhost:8080/",
          "height": 35
        },
        "id": "sRcUK06bAPDu",
        "outputId": "846acc24-bc28-477e-864e-0e00bdcee336"
      },
      "source": [
        "input_vocab = np.array(input_text_processor.get_vocabulary())\n",
        "tokens = input_vocab[example_tokens[0].numpy()]\n",
        "' '.join(tokens)"
      ],
      "execution_count": 14,
      "outputs": [
        {
          "output_type": "execute_result",
          "data": {
            "application/vnd.google.colaboratory.intrinsic+json": {
              "type": "string"
            },
            "text/plain": [
              "'[START] [UNK] [END]      '"
            ]
          },
          "metadata": {},
          "execution_count": 14
        }
      ]
    },
    {
      "cell_type": "code",
      "metadata": {
        "colab": {
          "base_uri": "https://localhost:8080/",
          "height": 298
        },
        "id": "jfNIs9rWAQzd",
        "outputId": "143d2636-0793-4c26-d1d5-ef0be2957d91"
      },
      "source": [
        "plt.subplot(1, 2, 1)\n",
        "plt.pcolormesh(example_tokens)\n",
        "plt.title('Token IDs')\n",
        "\n",
        "plt.subplot(1, 2, 2)\n",
        "plt.pcolormesh(example_tokens != 0)\n",
        "plt.title('Mask')"
      ],
      "execution_count": 15,
      "outputs": [
        {
          "output_type": "execute_result",
          "data": {
            "text/plain": [
              "Text(0.5, 1.0, 'Mask')"
            ]
          },
          "metadata": {},
          "execution_count": 15
        },
        {
          "output_type": "display_data",
          "data": {
            "image/png": "[encoded data removed]",
            "text/plain": [
              "<Figure size 432x288 with 2 Axes>"
            ]
          },
          "metadata": {
            "needs_background": "light"
          }
        }
      ]
    },
    {
      "cell_type": "code",
      "metadata": {
        "id": "brEKHSRRAQ6d"
      },
      "source": [
        "embedding_dim = 256\n",
        "units = 1024"
      ],
      "execution_count": 16,
      "outputs": []
    },
    {
      "cell_type": "code",
      "metadata": {
        "id": "6fM5XwCKAUXQ"
      },
      "source": [
        "class Encoder(tf.keras.layers.Layer):\n",
        "  def __init__(self, input_vocab_size, embedding_dim, enc_units):\n",
        "    super(Encoder, self).__init__()\n",
        "    self.enc_units = enc_units\n",
        "    self.input_vocab_size = input_vocab_size\n",
        "\n",
        "    # The embedding layer converts tokens to vectors\n",
        "    self.embedding = tf.keras.layers.Embedding(self.input_vocab_size,\n",
        "                                               embedding_dim)\n",
        "\n",
        "    # The GRU RNN layer processes those vectors sequentially.\n",
        "    self.gru = tf.keras.layers.GRU(self.enc_units,\n",
        "                                   # Return the sequence and state\n",
        "                                   return_sequences=True,\n",
        "                                   return_state=True,\n",
        "                                   recurrent_initializer='glorot_uniform')\n",
        "\n",
        "  def call(self, tokens, state=None):\n",
        "    \n",
        "    # 2. The embedding layer looks up the embedding for each token.\n",
        "    vectors = self.embedding(tokens)\n",
        "   \n",
        "\n",
        "    # 3. The GRU processes the embedding sequence.\n",
        "    #    output shape: (batch, s, enc_units)\n",
        "    #    state shape: (batch, enc_units)\n",
        "    output, state = self.gru(vectors, initial_state=state)\n",
        "\n",
        "    # 4. Returns the new sequence and its state.\n",
        "    return output, state"
      ],
      "execution_count": 17,
      "outputs": []
    },
    {
      "cell_type": "code",
      "metadata": {
        "colab": {
          "base_uri": "https://localhost:8080/"
        },
        "id": "fF5xjRz6AXPo",
        "outputId": "e328cf5e-fe87-44db-a300-ae55c93311fe"
      },
      "source": [
        "# Convert the input text to tokens.\n",
        "example_tokens = input_text_processor(example_input_batch)\n",
        "\n",
        "# Encode the input sequence.\n",
        "encoder = Encoder(input_text_processor.vocabulary_size(),\n",
        "                  embedding_dim, units)\n",
        "example_enc_output, example_enc_state = encoder(example_tokens)\n",
        "\n",
        "print(f'Input batch, shape (batch): {example_input_batch.shape}')\n",
        "print(f'Input batch tokens, shape (batch, s): {example_tokens.shape}')\n",
        "print(f'Encoder output, shape (batch, s, units): {example_enc_output.shape}')\n",
        "print(f'Encoder state, shape (batch, units): {example_enc_state.shape}')"
      ],
      "execution_count": 18,
      "outputs": [
        {
          "output_type": "stream",
          "name": "stdout",
          "text": [
            "Input batch, shape (batch): (64,)\n",
            "Input batch tokens, shape (batch, s): (64, 9)\n",
            "Encoder output, shape (batch, s, units): (64, 9, 1024)\n",
            "Encoder state, shape (batch, units): (64, 1024)\n"
          ]
        }
      ]
    },
    {
      "cell_type": "code",
      "metadata": {
        "id": "LAMS8SklAZp3"
      },
      "source": [
        "class BahdanauAttention(tf.keras.layers.Layer):\n",
        "  def __init__(self, units):\n",
        "    super().__init__()\n",
        "    # For Eqn. (4), the  Bahdanau attention\n",
        "    self.W1 = tf.keras.layers.Dense(units, use_bias=False)\n",
        "    self.W2 = tf.keras.layers.Dense(units, use_bias=False)\n",
        "\n",
        "    self.attention = tf.keras.layers.AdditiveAttention()\n",
        "\n",
        "  def call(self, query, value, mask):\n",
        "    # From Eqn. (4), `W1@ht`.\n",
        "    w1_query = self.W1(query)\n",
        "\n",
        "    # From Eqn. (4), `W2@hs`.\n",
        "    w2_key = self.W2(value)\n",
        "\n",
        "    query_mask = tf.ones(tf.shape(query)[:-1], dtype=bool)\n",
        "    value_mask = mask\n",
        "\n",
        "    context_vector, attention_weights = self.attention(\n",
        "        inputs = [w1_query, value, w2_key],\n",
        "        mask=[query_mask, value_mask],\n",
        "        return_attention_scores = True,\n",
        "    )\n",
        "\n",
        "    return context_vector, attention_weights"
      ],
      "execution_count": 19,
      "outputs": []
    },
    {
      "cell_type": "code",
      "metadata": {
        "id": "bcBgRqAQAdSK"
      },
      "source": [
        "attention_layer = BahdanauAttention(units)"
      ],
      "execution_count": 20,
      "outputs": []
    },
    {
      "cell_type": "code",
      "metadata": {
        "colab": {
          "base_uri": "https://localhost:8080/"
        },
        "id": "tPdUEEIYAfYL",
        "outputId": "1994be4d-96aa-4dc9-d256-a33c6ff796a6"
      },
      "source": [
        "(example_tokens != 0).shape"
      ],
      "execution_count": 21,
      "outputs": [
        {
          "output_type": "execute_result",
          "data": {
            "text/plain": [
              "TensorShape([64, 9])"
            ]
          },
          "metadata": {},
          "execution_count": 21
        }
      ]
    },
    {
      "cell_type": "code",
      "metadata": {
        "colab": {
          "base_uri": "https://localhost:8080/"
        },
        "id": "EvoidCVwAhbt",
        "outputId": "60d4ea73-2e9d-43d2-90a5-bbcaad7c2b71"
      },
      "source": [
        "# Later, the decoder will generate this attention query\n",
        "example_attention_query = tf.random.normal(shape=[len(example_tokens), 2, 10])\n",
        "\n",
        "# Attend to the encoded tokens\n",
        "\n",
        "context_vector, attention_weights = attention_layer(\n",
        "    query=example_attention_query,\n",
        "    value=example_enc_output,\n",
        "    mask=(example_tokens != 0))\n",
        "\n",
        "print(f'Attention result shape: (batch_size, query_seq_length, units):           {context_vector.shape}')\n",
        "print(f'Attention weights shape: (batch_size, query_seq_length, value_seq_length): {attention_weights.shape}')"
      ],
      "execution_count": 22,
      "outputs": [
        {
          "output_type": "stream",
          "name": "stdout",
          "text": [
            "Attention result shape: (batch_size, query_seq_length, units):           (64, 2, 1024)\n",
            "Attention weights shape: (batch_size, query_seq_length, value_seq_length): (64, 2, 9)\n"
          ]
        }
      ]
    },
    {
      "cell_type": "code",
      "metadata": {
        "colab": {
          "base_uri": "https://localhost:8080/",
          "height": 298
        },
        "id": "u6WHyMAOAjwH",
        "outputId": "0f27f836-a0c4-4bfd-b8b0-e4685c083ea9"
      },
      "source": [
        "plt.subplot(1, 2, 1)\n",
        "plt.pcolormesh(attention_weights[:, 0, :])\n",
        "plt.title('Attention weights')\n",
        "\n",
        "plt.subplot(1, 2, 2)\n",
        "plt.pcolormesh(example_tokens != 0)\n",
        "plt.title('Mask')"
      ],
      "execution_count": 23,
      "outputs": [
        {
          "output_type": "execute_result",
          "data": {
            "text/plain": [
              "Text(0.5, 1.0, 'Mask')"
            ]
          },
          "metadata": {},
          "execution_count": 23
        },
        {
          "output_type": "display_data",
          "data": {
            "image/png": "[encoded data removed]",
            "text/plain": [
              "<Figure size 432x288 with 2 Axes>"
            ]
          },
          "metadata": {
            "needs_background": "light"
          }
        }
      ]
    },
    {
      "cell_type": "code",
      "metadata": {
        "colab": {
          "base_uri": "https://localhost:8080/"
        },
        "id": "TTr7gR4iAlvI",
        "outputId": "c0c20e46-14d6-48e2-9028-8c8ef3853da3"
      },
      "source": [
        "attention_weights.shape"
      ],
      "execution_count": 24,
      "outputs": [
        {
          "output_type": "execute_result",
          "data": {
            "text/plain": [
              "TensorShape([64, 2, 9])"
            ]
          },
          "metadata": {},
          "execution_count": 24
        }
      ]
    },
    {
      "cell_type": "code",
      "metadata": {
        "id": "0hPPnEPeAnk9"
      },
      "source": [
        "attention_slice = attention_weights[0, 0].numpy()\n",
        "attention_slice = attention_slice[attention_slice != 0]"
      ],
      "execution_count": 25,
      "outputs": []
    },
    {
      "cell_type": "code",
      "metadata": {
        "colab": {
          "base_uri": "https://localhost:8080/",
          "height": 427
        },
        "id": "Mhw6EZCRApir",
        "outputId": "11c6088d-6f03-43da-d22f-fcbd22499a40"
      },
      "source": [
        "#@title\n",
        "plt.suptitle('Attention weights for one sequence')\n",
        "\n",
        "plt.figure(figsize=(12, 6))\n",
        "a1 = plt.subplot(1, 2, 1)\n",
        "plt.bar(range(len(attention_slice)), attention_slice)\n",
        "# freeze the xlim\n",
        "plt.xlim(plt.xlim())\n",
        "plt.xlabel('Attention weights')\n",
        "\n",
        "a2 = plt.subplot(1, 2, 2)\n",
        "plt.bar(range(len(attention_slice)), attention_slice)\n",
        "plt.xlabel('Attention weights, zoomed')\n",
        "\n",
        "# zoom in\n",
        "top = max(a1.get_ylim())\n",
        "zoom = 0.85*top\n",
        "a2.set_ylim([0.90*top, top])\n",
        "a1.plot(a1.get_xlim(), [zoom, zoom], color='k')"
      ],
      "execution_count": 26,
      "outputs": [
        {
          "output_type": "execute_result",
          "data": {
            "text/plain": [
              "[<matplotlib.lines.Line2D at 0x7f9b70036310>]"
            ]
          },
          "metadata": {},
          "execution_count": 26
        },
        {
          "output_type": "display_data",
          "data": {
            "text/plain": [
              "<Figure size 432x288 with 0 Axes>"
            ]
          },
          "metadata": {}
        },
        {
          "output_type": "display_data",
          "data": {
            "image/png": "[encoded data removed]",
            "text/plain": [
              "<Figure size 864x432 with 2 Axes>"
            ]
          },
          "metadata": {
            "needs_background": "light"
          }
        }
      ]
    },
    {
      "cell_type": "code",
      "metadata": {
        "id": "AJNOdygBAs0y"
      },
      "source": [
        "class Decoder(tf.keras.layers.Layer):\n",
        "  def __init__(self, output_vocab_size, embedding_dim, dec_units):\n",
        "    super(Decoder, self).__init__()\n",
        "    self.dec_units = dec_units\n",
        "    self.output_vocab_size = output_vocab_size\n",
        "    self.embedding_dim = embedding_dim\n",
        "\n",
        "    # For Step 1. The embedding layer convets token IDs to vectors\n",
        "    self.embedding = tf.keras.layers.Embedding(self.output_vocab_size,\n",
        "                                               embedding_dim)\n",
        "\n",
        "    # For Step 2. The RNN keeps track of what's been generated so far.\n",
        "    self.gru = tf.keras.layers.GRU(self.dec_units,\n",
        "                                   return_sequences=True,\n",
        "                                   return_state=True,\n",
        "                                   recurrent_initializer='glorot_uniform')\n",
        "\n",
        "    # For step 3. The RNN output will be the query for the attention layer.\n",
        "    self.attention = BahdanauAttention(self.dec_units)\n",
        "\n",
        "    # For step 4. Eqn. (3): converting `ct` to `at`\n",
        "    self.Wc = tf.keras.layers.Dense(dec_units, activation=tf.math.tanh,\n",
        "                                    use_bias=False)\n",
        "\n",
        "    # For step 5. This fully connected layer produces the logits for each\n",
        "    # output token.\n",
        "    self.fc = tf.keras.layers.Dense(self.output_vocab_size)"
      ],
      "execution_count": 27,
      "outputs": []
    },
    {
      "cell_type": "code",
      "metadata": {
        "id": "t_SPZV_TAxh7"
      },
      "source": [
        "class DecoderInput(typing.NamedTuple):\n",
        "  new_tokens: Any\n",
        "  enc_output: Any\n",
        "  mask: Any\n",
        "\n",
        "class DecoderOutput(typing.NamedTuple):\n",
        "  logits: Any\n",
        "  attention_weights: Any"
      ],
      "execution_count": 28,
      "outputs": []
    },
    {
      "cell_type": "code",
      "metadata": {
        "id": "f3ZP_48JA0Ri"
      },
      "source": [
        "def call(self,\n",
        "         inputs: DecoderInput,\n",
        "         state=None) -> Tuple[DecoderOutput, tf.Tensor]:\n",
        "\n",
        "  # Step 1. Lookup the embeddings\n",
        "  vectors = self.embedding(inputs.new_tokens)\n",
        "\n",
        "  # Step 2. Process one step with the RNN\n",
        "  rnn_output, state = self.gru(vectors, initial_state=state)\n",
        "\n",
        "  # Step 3. Use the RNN output as the query for the attention over the\n",
        "  # encoder output.\n",
        "  context_vector, attention_weights = self.attention(\n",
        "      query=rnn_output, value=inputs.enc_output, mask=inputs.mask)\n",
        "\n",
        "  # Step 4. Eqn. (3): Join the context_vector and rnn_output\n",
        "  #     [ct; ht] shape: (batch t, value_units + query_units)\n",
        "  context_and_rnn_output = tf.concat([context_vector, rnn_output], axis=-1)\n",
        "\n",
        "  # Step 4. Eqn. (3): `at = tanh(Wc@[ct; ht])`\n",
        "  attention_vector = self.Wc(context_and_rnn_output)\n",
        "\n",
        "  # Step 5. Generate logit predictions:\n",
        "  logits = self.fc(attention_vector)\n",
        "\n",
        "  return DecoderOutput(logits, attention_weights), state"
      ],
      "execution_count": 29,
      "outputs": []
    },
    {
      "cell_type": "code",
      "metadata": {
        "id": "YDbXXbLQA2Kz"
      },
      "source": [
        "Decoder.call = call"
      ],
      "execution_count": 30,
      "outputs": []
    },
    {
      "cell_type": "code",
      "metadata": {
        "id": "Wy7hYMp-A4Bd"
      },
      "source": [
        "decoder = Decoder(output_text_processor.vocabulary_size(),\n",
        "                  embedding_dim, units)"
      ],
      "execution_count": 31,
      "outputs": []
    },
    {
      "cell_type": "code",
      "metadata": {
        "id": "Uot_Zxj0A54y"
      },
      "source": [
        "# Convert the target sequence, and collect the \"[START]\" tokens\n",
        "example_output_tokens = output_text_processor(example_target_batch)\n",
        "\n",
        "start_index = output_text_processor.get_vocabulary().index('[START]')\n",
        "first_token = tf.constant([[start_index]] * example_output_tokens.shape[0])"
      ],
      "execution_count": 32,
      "outputs": []
    },
    {
      "cell_type": "code",
      "metadata": {
        "colab": {
          "base_uri": "https://localhost:8080/"
        },
        "id": "iEZsl4coA7l_",
        "outputId": "99d23b67-671d-4261-aa6e-db3d4e1ff204"
      },
      "source": [
        "# Run the decoder\n",
        "dec_result, dec_state = decoder(\n",
        "    inputs = DecoderInput(new_tokens=first_token,\n",
        "                          enc_output=example_enc_output,\n",
        "                          mask=(example_tokens != 0)),\n",
        "    state = example_enc_state\n",
        ")\n",
        "\n",
        "print(f'logits shape: (batch_size, t, output_vocab_size) {dec_result.logits.shape}')\n",
        "print(f'state shape: (batch_size, dec_units) {dec_state.shape}')"
      ],
      "execution_count": 33,
      "outputs": [
        {
          "output_type": "stream",
          "name": "stdout",
          "text": [
            "logits shape: (batch_size, t, output_vocab_size) (64, 1, 5000)\n",
            "state shape: (batch_size, dec_units) (64, 1024)\n"
          ]
        }
      ]
    },
    {
      "cell_type": "code",
      "metadata": {
        "id": "hZ-998PqA9Vh"
      },
      "source": [
        "sampled_token = tf.random.categorical(dec_result.logits[:, 0, :], num_samples=1)"
      ],
      "execution_count": 34,
      "outputs": []
    },
    {
      "cell_type": "code",
      "metadata": {
        "colab": {
          "base_uri": "https://localhost:8080/"
        },
        "id": "6_soC8ZZA-9Y",
        "outputId": "df87e2d1-6e9e-4fb9-9df2-d846512c3af9"
      },
      "source": [
        "vocab = np.array(output_text_processor.get_vocabulary())\n",
        "first_word = vocab[sampled_token.numpy()]\n",
        "first_word[:5]"
      ],
      "execution_count": 35,
      "outputs": [
        {
          "output_type": "execute_result",
          "data": {
            "text/plain": [
              "array([['stipulation'],\n",
              "       ['furious'],\n",
              "       ['after'],\n",
              "       ['transparency'],\n",
              "       ['hid']], dtype='<U18')"
            ]
          },
          "metadata": {},
          "execution_count": 35
        }
      ]
    },
    {
      "cell_type": "code",
      "metadata": {
        "colab": {
          "base_uri": "https://localhost:8080/"
        },
        "id": "CilxA4uiBAmM",
        "outputId": "22bd1020-b311-4c15-9dd5-f84329cbaa1e"
      },
      "source": [
        "dec_result, dec_state = decoder(\n",
        "    DecoderInput(sampled_token,\n",
        "                 example_enc_output,\n",
        "                 mask=(example_tokens != 0)),\n",
        "    state=dec_state)\n",
        "sampled_token = tf.random.categorical(dec_result.logits[:, 0, :], num_samples=1)\n",
        "first_word = vocab[sampled_token.numpy()]\n",
        "first_word[:5]"
      ],
      "execution_count": 36,
      "outputs": [
        {
          "output_type": "execute_result",
          "data": {
            "text/plain": [
              "array([['fiscal'],\n",
              "       ['weighlifting'],\n",
              "       ['experiment'],\n",
              "       ['iran'],\n",
              "       ['babies']], dtype='<U18')"
            ]
          },
          "metadata": {},
          "execution_count": 36
        }
      ]
    },
    {
      "cell_type": "code",
      "metadata": {
        "id": "VS7n1MCJBKH3"
      },
      "source": [
        "class MaskedLoss(tf.keras.losses.Loss):\n",
        "  def __init__(self):\n",
        "    self.name = 'masked_loss'\n",
        "    self.loss = tf.keras.losses.SparseCategoricalCrossentropy(\n",
        "        from_logits=True, reduction='none')\n",
        "\n",
        "  def __call__(self, y_true, y_pred):\n",
        "\n",
        "    # Calculate the loss for each item in the batch.\n",
        "    loss = self.loss(y_true, y_pred)\n",
        "\n",
        "    # Mask off the losses on padding.\n",
        "    mask = tf.cast(y_true != 0, tf.float32)\n",
        "    loss *= mask\n",
        "\n",
        "    # Return the total.\n",
        "    return tf.reduce_sum(loss)"
      ],
      "execution_count": 37,
      "outputs": []
    },
    {
      "cell_type": "code",
      "metadata": {
        "id": "Kwy34d0DBMok"
      },
      "source": [
        "class TrainTranslator(tf.keras.Model):\n",
        "  def __init__(self, embedding_dim, units,\n",
        "               input_text_processor,\n",
        "               output_text_processor, \n",
        "               use_tf_function=True):\n",
        "    super().__init__()\n",
        "    # Build the encoder and decoder\n",
        "    encoder = Encoder(input_text_processor.vocabulary_size(),\n",
        "                      embedding_dim, units)\n",
        "    decoder = Decoder(output_text_processor.vocabulary_size(),\n",
        "                      embedding_dim, units)\n",
        "\n",
        "    self.encoder = encoder\n",
        "    self.decoder = decoder\n",
        "    self.input_text_processor = input_text_processor\n",
        "    self.output_text_processor = output_text_processor\n",
        "    self.use_tf_function = use_tf_function\n",
        "\n",
        "  def train_step(self, inputs):\n",
        "    if self.use_tf_function:\n",
        "      return self._tf_train_step(inputs)\n",
        "    else:\n",
        "      return self._train_step(inputs)"
      ],
      "execution_count": 38,
      "outputs": []
    },
    {
      "cell_type": "code",
      "metadata": {
        "id": "dS5ShW9-BQDl"
      },
      "source": [
        "def _preprocess(self, input_text, target_text):\n",
        "  # Convert the text to token IDs\n",
        "  input_tokens = self.input_text_processor(input_text)\n",
        "  target_tokens = self.output_text_processor(target_text)\n",
        "\n",
        "  # Convert IDs to masks.\n",
        "  input_mask = input_tokens != 0\n",
        "\n",
        "  target_mask = target_tokens != 0\n",
        "\n",
        "  return input_tokens, input_mask, target_tokens, target_mask\n"
      ],
      "execution_count": 39,
      "outputs": []
    },
    {
      "cell_type": "code",
      "metadata": {
        "id": "uTZeJKZ0BUtX"
      },
      "source": [
        "TrainTranslator._preprocess = _preprocess"
      ],
      "execution_count": 40,
      "outputs": []
    },
    {
      "cell_type": "code",
      "metadata": {
        "id": "i5VHgzdRBV3e"
      },
      "source": [
        "def _train_step(self, inputs):\n",
        "  input_text, target_text = inputs  \n",
        "\n",
        "  (input_tokens, input_mask,\n",
        "   target_tokens, target_mask) = self._preprocess(input_text, target_text)\n",
        "\n",
        "  max_target_length = tf.shape(target_tokens)[1]\n",
        "\n",
        "  with tf.GradientTape() as tape:\n",
        "    # Encode the input\n",
        "    enc_output, enc_state = self.encoder(input_tokens)\n",
        "    # Initialize the decoder's state to the encoder's final state.\n",
        "    # This only works if the encoder and decoder have the same number of\n",
        "    # units.\n",
        "    dec_state = enc_state\n",
        "    loss = tf.constant(0.0)\n",
        "\n",
        "    for t in tf.range(max_target_length-1):\n",
        "      # Pass in two tokens from the target sequence:\n",
        "      # 1. The current input to the decoder.\n",
        "      # 2. The target the target for the decoder's next prediction.\n",
        "      new_tokens = target_tokens[:, t:t+2]\n",
        "      step_loss, dec_state = self._loop_step(new_tokens, input_mask,\n",
        "                                             enc_output, dec_state)\n",
        "      loss = loss + step_loss\n",
        "\n",
        "    # Average the loss over all non padding tokens.\n",
        "    average_loss = loss / tf.reduce_sum(tf.cast(target_mask, tf.float32))\n",
        "\n",
        "  # Apply an optimization step\n",
        "  variables = self.trainable_variables \n",
        "  gradients = tape.gradient(average_loss, variables)\n",
        "  self.optimizer.apply_gradients(zip(gradients, variables))\n",
        "\n",
        "  # Return a dict mapping metric names to current value\n",
        "  return {'batch_loss': average_loss}"
      ],
      "execution_count": 41,
      "outputs": []
    },
    {
      "cell_type": "code",
      "metadata": {
        "id": "3MYHhDaUBdE_"
      },
      "source": [
        "TrainTranslator._train_step = _train_step"
      ],
      "execution_count": 42,
      "outputs": []
    },
    {
      "cell_type": "code",
      "metadata": {
        "id": "IWQPNvM2BgrT"
      },
      "source": [
        "def _loop_step(self, new_tokens, input_mask, enc_output, dec_state):\n",
        "  input_token, target_token = new_tokens[:, 0:1], new_tokens[:, 1:2]\n",
        "\n",
        "  # Run the decoder one step.\n",
        "  decoder_input = DecoderInput(new_tokens=input_token,\n",
        "                               enc_output=enc_output,\n",
        "                               mask=input_mask)\n",
        "\n",
        "  dec_result, dec_state = self.decoder(decoder_input, state=dec_state)\n",
        "\n",
        "  # `self.loss` returns the total for non-padded tokens\n",
        "  y = target_token\n",
        "  y_pred = dec_result.logits\n",
        "  step_loss = self.loss(y, y_pred)\n",
        "\n",
        "  return step_loss, dec_state"
      ],
      "execution_count": 43,
      "outputs": []
    },
    {
      "cell_type": "code",
      "metadata": {
        "id": "br1Gg5QsBiqm"
      },
      "source": [
        "TrainTranslator._loop_step = _loop_step"
      ],
      "execution_count": 44,
      "outputs": []
    },
    {
      "cell_type": "code",
      "metadata": {
        "id": "KU-mGRdlBlX5"
      },
      "source": [
        "translator = TrainTranslator(\n",
        "    embedding_dim, units,\n",
        "    input_text_processor=input_text_processor,\n",
        "    output_text_processor=output_text_processor,\n",
        "    use_tf_function=False)\n",
        "\n",
        "# Configure the loss and optimizer\n",
        "translator.compile(\n",
        "    optimizer=tf.optimizers.Adam(),\n",
        "    loss=MaskedLoss(), metrics=['accuracy']\n",
        ")"
      ],
      "execution_count": 45,
      "outputs": []
    },
    {
      "cell_type": "code",
      "metadata": {
        "colab": {
          "base_uri": "https://localhost:8080/"
        },
        "id": "Z6jyn9whBoSw",
        "outputId": "11cafad3-6c01-48e4-8da8-02cb64a9733c"
      },
      "source": [
        "np.log(output_text_processor.vocabulary_size())"
      ],
      "execution_count": 46,
      "outputs": [
        {
          "output_type": "execute_result",
          "data": {
            "text/plain": [
              "8.517193191416238"
            ]
          },
          "metadata": {},
          "execution_count": 46
        }
      ]
    },
    {
      "cell_type": "code",
      "metadata": {
        "colab": {
          "base_uri": "https://localhost:8080/"
        },
        "id": "2TjIfkZBBqYQ",
        "outputId": "4e87a2c2-d885-4dbd-811b-efb4dfb8f1f1"
      },
      "source": [
        "%%time\n",
        "for n in range(10):\n",
        "  print(translator.train_step([example_input_batch, example_target_batch]))\n",
        "print()"
      ],
      "execution_count": 47,
      "outputs": [
        {
          "output_type": "stream",
          "name": "stdout",
          "text": [
            "{'batch_loss': <tf.Tensor: shape=(), dtype=float32, numpy=7.2347836>}\n",
            "{'batch_loss': <tf.Tensor: shape=(), dtype=float32, numpy=7.1927032>}\n",
            "{'batch_loss': <tf.Tensor: shape=(), dtype=float32, numpy=7.102433>}\n",
            "{'batch_loss': <tf.Tensor: shape=(), dtype=float32, numpy=6.826153>}\n",
            "{'batch_loss': <tf.Tensor: shape=(), dtype=float32, numpy=5.877384>}\n",
            "{'batch_loss': <tf.Tensor: shape=(), dtype=float32, numpy=4.7631645>}\n",
            "{'batch_loss': <tf.Tensor: shape=(), dtype=float32, numpy=4.2894855>}\n",
            "{'batch_loss': <tf.Tensor: shape=(), dtype=float32, numpy=3.9675953>}\n",
            "{'batch_loss': <tf.Tensor: shape=(), dtype=float32, numpy=3.780617>}\n",
            "{'batch_loss': <tf.Tensor: shape=(), dtype=float32, numpy=3.7142568>}\n",
            "\n",
            "CPU times: user 7.09 s, sys: 198 ms, total: 7.29 s\n",
            "Wall time: 9.34 s\n"
          ]
        }
      ]
    },
    {
      "cell_type": "code",
      "metadata": {
        "id": "PYED9TkRBsCx"
      },
      "source": [
        "@tf.function(input_signature=[[tf.TensorSpec(dtype=tf.string, shape=[None]),\n",
        "                               tf.TensorSpec(dtype=tf.string, shape=[None])]])\n",
        "def _tf_train_step(self, inputs):\n",
        "  return self._train_step(inputs)"
      ],
      "execution_count": 48,
      "outputs": []
    },
    {
      "cell_type": "code",
      "metadata": {
        "id": "n1tGjhFnBuP3"
      },
      "source": [
        "TrainTranslator._tf_train_step = _tf_train_step"
      ],
      "execution_count": 49,
      "outputs": []
    },
    {
      "cell_type": "code",
      "metadata": {
        "id": "ruPgbcFoBwDG"
      },
      "source": [
        "translator.use_tf_function = True"
      ],
      "execution_count": 50,
      "outputs": []
    },
    {
      "cell_type": "code",
      "metadata": {
        "colab": {
          "base_uri": "https://localhost:8080/"
        },
        "id": "kUs7CG5mBxmz",
        "outputId": "16d1af37-ad51-4244-f358-d9cf830c0b8a"
      },
      "source": [
        "translator.train_step([example_input_batch, example_target_batch])"
      ],
      "execution_count": 51,
      "outputs": [
        {
          "output_type": "execute_result",
          "data": {
            "text/plain": [
              "{'batch_loss': <tf.Tensor: shape=(), dtype=float32, numpy=3.680747>}"
            ]
          },
          "metadata": {},
          "execution_count": 51
        }
      ]
    },
    {
      "cell_type": "code",
      "metadata": {
        "colab": {
          "base_uri": "https://localhost:8080/"
        },
        "id": "h2Vgr6wxBzWV",
        "outputId": "89c1f7ac-6be3-4f83-ef4d-663cc9f69ad8"
      },
      "source": [
        "%%time\n",
        "for n in range(10):\n",
        "  print(translator.train_step([example_input_batch, example_target_batch]))\n",
        "print()"
      ],
      "execution_count": 52,
      "outputs": [
        {
          "output_type": "stream",
          "name": "stdout",
          "text": [
            "{'batch_loss': <tf.Tensor: shape=(), dtype=float32, numpy=3.661751>}\n",
            "{'batch_loss': <tf.Tensor: shape=(), dtype=float32, numpy=3.654793>}\n",
            "{'batch_loss': <tf.Tensor: shape=(), dtype=float32, numpy=3.6558292>}\n",
            "{'batch_loss': <tf.Tensor: shape=(), dtype=float32, numpy=3.640708>}\n",
            "{'batch_loss': <tf.Tensor: shape=(), dtype=float32, numpy=3.5673046>}\n",
            "{'batch_loss': <tf.Tensor: shape=(), dtype=float32, numpy=3.463248>}\n",
            "{'batch_loss': <tf.Tensor: shape=(), dtype=float32, numpy=3.414868>}\n",
            "{'batch_loss': <tf.Tensor: shape=(), dtype=float32, numpy=3.4538958>}\n",
            "{'batch_loss': <tf.Tensor: shape=(), dtype=float32, numpy=3.4618282>}\n",
            "{'batch_loss': <tf.Tensor: shape=(), dtype=float32, numpy=3.3958445>}\n",
            "\n",
            "CPU times: user 6.28 s, sys: 751 ms, total: 7.03 s\n",
            "Wall time: 7 s\n"
          ]
        }
      ]
    },
    {
      "cell_type": "code",
      "metadata": {
        "colab": {
          "base_uri": "https://localhost:8080/",
          "height": 300
        },
        "id": "2hUBG0grB1Ye",
        "outputId": "f10f6044-4b06-4b3f-83e8-1ed937b890f0"
      },
      "source": [
        "losses = []\n",
        "for n in range(100):\n",
        "  print('.', end='')\n",
        "  logs = translator.train_step([example_input_batch, example_target_batch])\n",
        "  losses.append(logs['batch_loss'].numpy())\n",
        "\n",
        "print()\n",
        "plt.plot(losses)"
      ],
      "execution_count": 53,
      "outputs": [
        {
          "output_type": "stream",
          "name": "stdout",
          "text": [
            "....................................................................................................\n"
          ]
        },
        {
          "output_type": "execute_result",
          "data": {
            "text/plain": [
              "[<matplotlib.lines.Line2D at 0x7f9b188d9fd0>]"
            ]
          },
          "metadata": {},
          "execution_count": 53
        },
        {
          "output_type": "display_data",
          "data": {
            "image/png": "[encoded data removed]",
            "text/plain": [
              "<Figure size 432x288 with 1 Axes>"
            ]
          },
          "metadata": {
            "needs_background": "light"
          }
        }
      ]
    },
    {
      "cell_type": "code",
      "metadata": {
        "id": "Zd-zPoT4B4jn"
      },
      "source": [
        "train_translator = TrainTranslator(\n",
        "    embedding_dim, units,\n",
        "    input_text_processor=input_text_processor,\n",
        "    output_text_processor=output_text_processor)\n",
        "\n",
        "# Configure the loss and optimizer\n",
        "train_translator.compile(\n",
        "    optimizer=tf.optimizers.Adam(),\n",
        "    loss=MaskedLoss(), metrics=['accuracy']\n",
        ")"
      ],
      "execution_count": 54,
      "outputs": []
    },
    {
      "cell_type": "code",
      "metadata": {
        "id": "_qBLAVb-B7a9"
      },
      "source": [
        "class BatchLogs(tf.keras.callbacks.Callback):\n",
        "  def __init__(self, key):\n",
        "    self.key = key\n",
        "    self.logs = []\n",
        "\n",
        "  def on_train_batch_end(self, n, logs):\n",
        "    self.logs.append(logs[self.key])\n",
        "\n",
        "batch_loss = BatchLogs('batch_loss')"
      ],
      "execution_count": 55,
      "outputs": []
    },
    {
      "cell_type": "code",
      "metadata": {
        "colab": {
          "base_uri": "https://localhost:8080/"
        },
        "id": "fukHCKPdB9bK",
        "outputId": "be68bef2-d2f5-433b-be2f-ada0cf311f70"
      },
      "source": [
        "train_translator.fit(dataset, epochs=100,\n",
        "                     callbacks=[batch_loss])"
      ],
      "execution_count": 99,
      "outputs": [
        {
          "output_type": "stream",
          "name": "stdout",
          "text": [
            "Epoch 1/100\n",
            "163/163 [==============================] - 69s 419ms/step - batch_loss: 0.5322\n",
            "Epoch 2/100\n",
            "163/163 [==============================] - 59s 361ms/step - batch_loss: 0.5261\n",
            "Epoch 3/100\n",
            "163/163 [==============================] - 59s 363ms/step - batch_loss: 0.5212\n",
            "Epoch 4/100\n",
            "163/163 [==============================] - 59s 364ms/step - batch_loss: 0.5227\n",
            "Epoch 5/100\n",
            "163/163 [==============================] - 59s 363ms/step - batch_loss: 0.5247\n",
            "Epoch 6/100\n",
            "163/163 [==============================] - 59s 362ms/step - batch_loss: 0.5209\n",
            "Epoch 7/100\n",
            "163/163 [==============================] - 59s 361ms/step - batch_loss: 0.5214\n",
            "Epoch 8/100\n",
            "163/163 [==============================] - 58s 358ms/step - batch_loss: 0.5203\n",
            "Epoch 9/100\n",
            "163/163 [==============================] - 58s 355ms/step - batch_loss: 0.5203\n",
            "Epoch 10/100\n",
            "163/163 [==============================] - 59s 361ms/step - batch_loss: 0.5217\n",
            "Epoch 11/100\n",
            "163/163 [==============================] - 58s 356ms/step - batch_loss: 0.5212\n",
            "Epoch 12/100\n",
            "163/163 [==============================] - 58s 356ms/step - batch_loss: 0.5200\n",
            "Epoch 13/100\n",
            "163/163 [==============================] - 58s 357ms/step - batch_loss: 0.5267\n",
            "Epoch 14/100\n",
            "163/163 [==============================] - 58s 355ms/step - batch_loss: 0.5313\n",
            "Epoch 15/100\n",
            "163/163 [==============================] - 58s 358ms/step - batch_loss: 0.5515\n",
            "Epoch 16/100\n",
            "163/163 [==============================] - 58s 356ms/step - batch_loss: 0.6114\n",
            "Epoch 17/100\n",
            "163/163 [==============================] - 58s 354ms/step - batch_loss: 0.6356\n",
            "Epoch 18/100\n",
            "163/163 [==============================] - 59s 359ms/step - batch_loss: 0.5867\n",
            "Epoch 19/100\n",
            "163/163 [==============================] - 58s 357ms/step - batch_loss: 0.5506\n",
            "Epoch 20/100\n",
            "163/163 [==============================] - 58s 355ms/step - batch_loss: 0.5291\n",
            "Epoch 21/100\n",
            "163/163 [==============================] - 58s 353ms/step - batch_loss: 0.5172\n",
            "Epoch 22/100\n",
            "163/163 [==============================] - 58s 357ms/step - batch_loss: 0.5114\n",
            "Epoch 23/100\n",
            "163/163 [==============================] - 58s 358ms/step - batch_loss: 0.5101\n",
            "Epoch 24/100\n",
            "163/163 [==============================] - 59s 360ms/step - batch_loss: 0.5089\n",
            "Epoch 25/100\n",
            "163/163 [==============================] - 59s 362ms/step - batch_loss: 0.5094\n",
            "Epoch 26/100\n",
            "163/163 [==============================] - 59s 361ms/step - batch_loss: 0.5074\n",
            "Epoch 27/100\n",
            "163/163 [==============================] - 58s 356ms/step - batch_loss: 0.5057\n",
            "Epoch 28/100\n",
            "163/163 [==============================] - 58s 357ms/step - batch_loss: 0.5076\n",
            "Epoch 29/100\n",
            "163/163 [==============================] - 59s 361ms/step - batch_loss: 0.5078\n",
            "Epoch 30/100\n",
            "163/163 [==============================] - 59s 362ms/step - batch_loss: 0.5078\n",
            "Epoch 31/100\n",
            "163/163 [==============================] - 58s 355ms/step - batch_loss: 0.5091\n",
            "Epoch 32/100\n",
            "163/163 [==============================] - 58s 357ms/step - batch_loss: 0.5067\n",
            "Epoch 33/100\n",
            "163/163 [==============================] - 58s 357ms/step - batch_loss: 0.5120\n",
            "Epoch 34/100\n",
            "163/163 [==============================] - 60s 367ms/step - batch_loss: 0.5100\n",
            "Epoch 35/100\n",
            "163/163 [==============================] - 59s 363ms/step - batch_loss: 0.5099\n",
            "Epoch 36/100\n",
            "163/163 [==============================] - 59s 359ms/step - batch_loss: 0.5134\n",
            "Epoch 37/100\n",
            "163/163 [==============================] - 59s 364ms/step - batch_loss: 0.5297\n",
            "Epoch 38/100\n",
            "163/163 [==============================] - 58s 358ms/step - batch_loss: 0.5744\n",
            "Epoch 39/100\n",
            "163/163 [==============================] - 59s 360ms/step - batch_loss: 0.6311\n",
            "Epoch 40/100\n",
            "163/163 [==============================] - 59s 358ms/step - batch_loss: 0.6026\n",
            "Epoch 41/100\n",
            "163/163 [==============================] - 59s 359ms/step - batch_loss: 0.5469\n",
            "Epoch 42/100\n",
            "163/163 [==============================] - 59s 364ms/step - batch_loss: 0.5171\n",
            "Epoch 43/100\n",
            "163/163 [==============================] - 59s 363ms/step - batch_loss: 0.5079\n",
            "Epoch 44/100\n",
            "163/163 [==============================] - 58s 358ms/step - batch_loss: 0.5041\n",
            "Epoch 45/100\n",
            "163/163 [==============================] - 58s 358ms/step - batch_loss: 0.4980\n",
            "Epoch 46/100\n",
            "163/163 [==============================] - 59s 361ms/step - batch_loss: 0.4986\n",
            "Epoch 47/100\n",
            "163/163 [==============================] - 59s 360ms/step - batch_loss: 0.5010\n",
            "Epoch 48/100\n",
            "163/163 [==============================] - 60s 371ms/step - batch_loss: 0.5002\n",
            "Epoch 49/100\n",
            "163/163 [==============================] - 61s 374ms/step - batch_loss: 0.4983\n",
            "Epoch 50/100\n",
            "163/163 [==============================] - 61s 373ms/step - batch_loss: 0.4982\n",
            "Epoch 51/100\n",
            "163/163 [==============================] - 58s 358ms/step - batch_loss: 0.4987\n",
            "Epoch 52/100\n",
            "163/163 [==============================] - 58s 353ms/step - batch_loss: 0.4984\n",
            "Epoch 53/100\n",
            "163/163 [==============================] - 58s 353ms/step - batch_loss: 0.4991\n",
            "Epoch 54/100\n",
            "163/163 [==============================] - 57s 352ms/step - batch_loss: 0.5005\n",
            "Epoch 55/100\n",
            "163/163 [==============================] - 57s 351ms/step - batch_loss: 0.4990\n",
            "Epoch 56/100\n",
            "163/163 [==============================] - 58s 355ms/step - batch_loss: 0.4993\n",
            "Epoch 57/100\n",
            "163/163 [==============================] - 58s 355ms/step - batch_loss: 0.5016\n",
            "Epoch 58/100\n",
            "163/163 [==============================] - 58s 353ms/step - batch_loss: 0.5005\n",
            "Epoch 59/100\n",
            "163/163 [==============================] - 58s 355ms/step - batch_loss: 0.5026\n",
            "Epoch 60/100\n",
            "163/163 [==============================] - 58s 354ms/step - batch_loss: 0.5040\n",
            "Epoch 61/100\n",
            "163/163 [==============================] - 58s 355ms/step - batch_loss: 0.5087\n",
            "Epoch 62/100\n",
            "163/163 [==============================] - 58s 357ms/step - batch_loss: 0.5313\n",
            "Epoch 63/100\n",
            "163/163 [==============================] - 58s 357ms/step - batch_loss: 0.6129\n",
            "Epoch 64/100\n",
            "163/163 [==============================] - 58s 357ms/step - batch_loss: 0.6245\n",
            "Epoch 65/100\n",
            "163/163 [==============================] - 58s 353ms/step - batch_loss: 0.5583\n",
            "Epoch 66/100\n",
            "163/163 [==============================] - 59s 363ms/step - batch_loss: 0.5208\n",
            "Epoch 67/100\n",
            "163/163 [==============================] - 60s 366ms/step - batch_loss: 0.5020\n",
            "Epoch 68/100\n",
            "163/163 [==============================] - 60s 366ms/step - batch_loss: 0.4952\n",
            "Epoch 69/100\n",
            "163/163 [==============================] - 59s 362ms/step - batch_loss: 0.4911\n",
            "Epoch 70/100\n",
            "163/163 [==============================] - 59s 362ms/step - batch_loss: 0.4931\n",
            "Epoch 71/100\n",
            "163/163 [==============================] - 60s 366ms/step - batch_loss: 0.4913\n",
            "Epoch 72/100\n",
            "163/163 [==============================] - 59s 363ms/step - batch_loss: 0.4949\n",
            "Epoch 73/100\n",
            "163/163 [==============================] - 60s 367ms/step - batch_loss: 0.4908\n",
            "Epoch 74/100\n",
            "163/163 [==============================] - 59s 362ms/step - batch_loss: 0.4920\n",
            "Epoch 75/100\n",
            "163/163 [==============================] - 58s 353ms/step - batch_loss: 0.4935\n",
            "Epoch 76/100\n",
            "163/163 [==============================] - 58s 358ms/step - batch_loss: 0.4937\n",
            "Epoch 77/100\n",
            "163/163 [==============================] - 60s 365ms/step - batch_loss: 0.4935\n",
            "Epoch 78/100\n",
            "163/163 [==============================] - 59s 362ms/step - batch_loss: 0.4921\n",
            "Epoch 79/100\n",
            "163/163 [==============================] - 59s 362ms/step - batch_loss: 0.4940\n",
            "Epoch 80/100\n",
            "163/163 [==============================] - 60s 366ms/step - batch_loss: 0.4943\n",
            "Epoch 81/100\n",
            "163/163 [==============================] - 59s 364ms/step - batch_loss: 0.4940\n",
            "Epoch 82/100\n",
            "163/163 [==============================] - 59s 359ms/step - batch_loss: 0.4956\n",
            "Epoch 83/100\n",
            "163/163 [==============================] - 58s 355ms/step - batch_loss: 0.5003\n",
            "Epoch 84/100\n",
            "163/163 [==============================] - 58s 355ms/step - batch_loss: 0.5022\n",
            "Epoch 85/100\n",
            "163/163 [==============================] - 59s 361ms/step - batch_loss: 0.5118\n",
            "Epoch 86/100\n",
            "163/163 [==============================] - 59s 364ms/step - batch_loss: 0.5495\n",
            "Epoch 87/100\n",
            "163/163 [==============================] - 59s 359ms/step - batch_loss: 0.6092\n",
            "Epoch 88/100\n",
            "163/163 [==============================] - 58s 355ms/step - batch_loss: 0.5715\n",
            "Epoch 89/100\n",
            "163/163 [==============================] - 58s 358ms/step - batch_loss: 0.5310\n",
            "Epoch 90/100\n",
            "163/163 [==============================] - 58s 358ms/step - batch_loss: 0.5056\n",
            "Epoch 91/100\n",
            "163/163 [==============================] - 59s 360ms/step - batch_loss: 0.4949\n",
            "Epoch 92/100\n",
            "163/163 [==============================] - 58s 357ms/step - batch_loss: 0.4903\n",
            "Epoch 93/100\n",
            "163/163 [==============================] - 58s 357ms/step - batch_loss: 0.4891\n",
            "Epoch 94/100\n",
            "163/163 [==============================] - 59s 362ms/step - batch_loss: 0.4864\n",
            "Epoch 95/100\n",
            "163/163 [==============================] - 59s 360ms/step - batch_loss: 0.4875\n",
            "Epoch 96/100\n",
            "163/163 [==============================] - 58s 358ms/step - batch_loss: 0.4881\n",
            "Epoch 97/100\n",
            "163/163 [==============================] - 58s 355ms/step - batch_loss: 0.4886\n",
            "Epoch 98/100\n",
            "163/163 [==============================] - 58s 357ms/step - batch_loss: 0.4884\n",
            "Epoch 99/100\n",
            "163/163 [==============================] - 58s 357ms/step - batch_loss: 0.4878\n",
            "Epoch 100/100\n",
            "163/163 [==============================] - 59s 359ms/step - batch_loss: 0.4867\n"
          ]
        },
        {
          "output_type": "execute_result",
          "data": {
            "text/plain": [
              "<keras.callbacks.History at 0x7f9b13c90150>"
            ]
          },
          "metadata": {},
          "execution_count": 99
        }
      ]
    },
    {
      "cell_type": "code",
      "metadata": {
        "colab": {
          "base_uri": "https://localhost:8080/",
          "height": 300
        },
        "id": "lCPrdFDiB_Oo",
        "outputId": "fb3ed854-7a57-4c6c-865b-3c8268f852de"
      },
      "source": [
        "plt.plot(batch_loss.logs)\n",
        "plt.ylim([0, 3])\n",
        "plt.xlabel('Batch #')\n",
        "plt.ylabel('CE/token')"
      ],
      "execution_count": 100,
      "outputs": [
        {
          "output_type": "execute_result",
          "data": {
            "text/plain": [
              "Text(0, 0.5, 'CE/token')"
            ]
          },
          "metadata": {},
          "execution_count": 100
        },
        {
          "output_type": "display_data",
          "data": {
            "image/png": "[encoded data removed]",
            "text/plain": [
              "<Figure size 432x288 with 1 Axes>"
            ]
          },
          "metadata": {
            "needs_background": "light"
          }
        }
      ]
    },
    {
      "cell_type": "code",
      "metadata": {
        "id": "C4Y38BM_CCMF"
      },
      "source": [
        "class Translator(tf.Module):\n",
        "\n",
        "  def __init__(self, encoder, decoder, input_text_processor,\n",
        "               output_text_processor):\n",
        "    self.encoder = encoder\n",
        "    self.decoder = decoder\n",
        "    self.input_text_processor = input_text_processor\n",
        "    self.output_text_processor = output_text_processor\n",
        "\n",
        "    self.output_token_string_from_index = (\n",
        "        tf.keras.layers.experimental.preprocessing.StringLookup(\n",
        "            vocabulary=output_text_processor.get_vocabulary(),\n",
        "            mask_token='',\n",
        "            invert=True))\n",
        "\n",
        "    # The output should never generate padding, unknown, or start.\n",
        "    index_from_string = tf.keras.layers.experimental.preprocessing.StringLookup(\n",
        "        vocabulary=output_text_processor.get_vocabulary(), mask_token='')\n",
        "    token_mask_ids = index_from_string(['', '[UNK]', '[START]']).numpy()\n",
        "\n",
        "    token_mask = np.zeros([index_from_string.vocabulary_size()], dtype=np.bool)\n",
        "    token_mask[np.array(token_mask_ids)] = True\n",
        "    self.token_mask = token_mask\n",
        "\n",
        "    self.start_token = index_from_string(tf.constant('[START]'))\n",
        "    self.end_token = index_from_string(tf.constant('[END]'))"
      ],
      "execution_count": 101,
      "outputs": []
    },
    {
      "cell_type": "code",
      "metadata": {
        "id": "yWg-BgqtCCy2"
      },
      "source": [
        "translator = Translator(\n",
        "    encoder=train_translator.encoder,\n",
        "    decoder=train_translator.decoder,\n",
        "    input_text_processor=input_text_processor,\n",
        "    output_text_processor=output_text_processor,\n",
        ")"
      ],
      "execution_count": 102,
      "outputs": []
    },
    {
      "cell_type": "code",
      "metadata": {
        "id": "jcMB3PONCE2H"
      },
      "source": [
        "def tokens_to_text(self, result_tokens):\n",
        "  \n",
        "  result_text_tokens = self.output_token_string_from_index(result_tokens)\n",
        "\n",
        "\n",
        "  result_text = tf.strings.reduce_join(result_text_tokens,\n",
        "                                       axis=1, separator=' ')\n",
        "\n",
        "\n",
        "  result_text = tf.strings.strip(result_text)\n",
        "\n",
        "  return result_text"
      ],
      "execution_count": 103,
      "outputs": []
    },
    {
      "cell_type": "code",
      "metadata": {
        "id": "URzeRaisCJc6"
      },
      "source": [
        "Translator.tokens_to_text = tokens_to_text"
      ],
      "execution_count": 104,
      "outputs": []
    },
    {
      "cell_type": "code",
      "metadata": {
        "colab": {
          "base_uri": "https://localhost:8080/"
        },
        "id": "sBOPRvRQCMhP",
        "outputId": "ec947b6d-f66f-4081-a6f7-6d09fde54f83"
      },
      "source": [
        "example_output_tokens = tf.random.uniform(\n",
        "    shape=[5, 2], minval=0, dtype=tf.int64,\n",
        "    maxval=output_text_processor.vocabulary_size())\n",
        "translator.tokens_to_text(example_output_tokens).numpy()"
      ],
      "execution_count": 105,
      "outputs": [
        {
          "output_type": "execute_result",
          "data": {
            "text/plain": [
              "array([b'strange homosexual', b'slip salutation', b'mens height',\n",
              "       b'tyranny distributed', b'childhood youngest'], dtype=object)"
            ]
          },
          "metadata": {},
          "execution_count": 105
        }
      ]
    },
    {
      "cell_type": "code",
      "metadata": {
        "id": "Qu1mgg0iCVnR"
      },
      "source": [
        "def sample(self, logits, temperature):\n",
        "  # 't' is usually 1 here.\n",
        "\n",
        "\n",
        "  token_mask = self.token_mask[tf.newaxis, tf.newaxis, :]\n",
        "\n",
        "\n",
        "  # Set the logits for all masked tokens to -inf, so they are never chosen.\n",
        "  logits = tf.where(self.token_mask, -np.inf, logits)\n",
        "\n",
        "  if temperature == 0.0:\n",
        "    new_tokens = tf.argmax(logits, axis=-1)\n",
        "  else: \n",
        "    logits = tf.squeeze(logits, axis=1)\n",
        "    new_tokens = tf.random.categorical(logits/temperature,\n",
        "                                        num_samples=1)\n",
        "\n",
        "\n",
        "  return new_tokens"
      ],
      "execution_count": 106,
      "outputs": []
    },
    {
      "cell_type": "code",
      "metadata": {
        "id": "1bjDuQg4CYKZ"
      },
      "source": [
        "Translator.sample = sample"
      ],
      "execution_count": 107,
      "outputs": []
    },
    {
      "cell_type": "code",
      "metadata": {
        "colab": {
          "base_uri": "https://localhost:8080/"
        },
        "id": "g_Nz9yx8CZ8X",
        "outputId": "8f6990c0-6c30-4708-8959-fb2124988008"
      },
      "source": [
        "example_logits = tf.random.normal([5, 1, output_text_processor.vocabulary_size()])\n",
        "example_output_tokens = translator.sample(example_logits, temperature=1.0)\n",
        "example_output_tokens"
      ],
      "execution_count": 108,
      "outputs": [
        {
          "output_type": "execute_result",
          "data": {
            "text/plain": [
              "<tf.Tensor: shape=(5, 1), dtype=int64, numpy=\n",
              "array([[1898],\n",
              "       [ 664],\n",
              "       [ 364],\n",
              "       [1531],\n",
              "       [ 239]])>"
            ]
          },
          "metadata": {},
          "execution_count": 108
        }
      ]
    },
    {
      "cell_type": "code",
      "metadata": {
        "id": "AV3nEUWoCdI1"
      },
      "source": [
        "def translate_unrolled(self,\n",
        "                       input_text, *,\n",
        "                       max_length=50,\n",
        "                       return_attention=True,\n",
        "                       temperature=1.0):\n",
        "  batch_size = tf.shape(input_text)[0]\n",
        "  input_tokens = self.input_text_processor(input_text)\n",
        "  enc_output, enc_state = self.encoder(input_tokens)\n",
        "\n",
        "  dec_state = enc_state\n",
        "  new_tokens = tf.fill([batch_size, 1], self.start_token)\n",
        "\n",
        "  result_tokens = []\n",
        "  attention = []\n",
        "  done = tf.zeros([batch_size, 1], dtype=tf.bool)\n",
        "\n",
        "  for _ in range(max_length):\n",
        "    dec_input = DecoderInput(new_tokens=new_tokens,\n",
        "                             enc_output=enc_output,\n",
        "                             mask=(input_tokens!=0))\n",
        "    \n",
        "    dec_result, dec_state = self.decoder(dec_input, state=dec_state)\n",
        "\n",
        "    attention.append(dec_result.attention_weights)\n",
        "\n",
        "    new_tokens = self.sample(dec_result.logits, temperature)\n",
        "\n",
        "    # If a sequence produces an `end_token`, set it `done`\n",
        "    done = done | (new_tokens == self.end_token)\n",
        "    # Once a sequence is done it only produces 0-padding.\n",
        "    new_tokens = tf.where(done, tf.constant(0, dtype=tf.int64), new_tokens)\n",
        "\n",
        "    # Collect the generated tokens\n",
        "    result_tokens.append(new_tokens)\n",
        "\n",
        "    if tf.executing_eagerly() and tf.reduce_all(done):\n",
        "      break\n",
        "\n",
        "  # Convert the list of generates token ids to a list of strings.\n",
        "  result_tokens = tf.concat(result_tokens, axis=-1)\n",
        "  result_text = self.tokens_to_text(result_tokens)\n",
        "\n",
        "  if return_attention:\n",
        "    attention_stack = tf.concat(attention, axis=1)\n",
        "    return {'text': result_text, 'attention': attention_stack}\n",
        "  else:\n",
        "    return {'text': result_text}\n"
      ],
      "execution_count": 109,
      "outputs": []
    },
    {
      "cell_type": "code",
      "metadata": {
        "id": "eVREECPwCe3r"
      },
      "source": [
        "Translator.translate = translate_unrolled"
      ],
      "execution_count": 110,
      "outputs": []
    },
    {
      "cell_type": "code",
      "metadata": {
        "colab": {
          "base_uri": "https://localhost:8080/"
        },
        "id": "maOls8IUCg3p",
        "outputId": "4187a96b-1eae-4c64-9033-10e5532bd266"
      },
      "source": [
        "%%time\n",
        "input_text = tf.constant([\n",
        "    \"شد إلكرسي من ساقو ورماه\", # \"He took the chair with his leg and threw it.\"\n",
        "    \"خذينا الطيارة بش نمشيو لجربة\", # \"We took the flight to go to Jerba.\"\"\n",
        "])\n",
        "\n",
        "result = translator.translate(\n",
        "    input_text = input_text)\n",
        "\n",
        "print(result['text'][0].numpy().decode())\n",
        "print(result['text'][1].numpy().decode())\n",
        "print()"
      ],
      "execution_count": 111,
      "outputs": [
        {
          "output_type": "stream",
          "name": "stdout",
          "text": [
            "he took the chair with his leg and threw it .\n",
            "we took the flight to go to jerba .\n",
            "\n",
            "CPU times: user 188 ms, sys: 7.6 ms, total: 195 ms\n",
            "Wall time: 193 ms\n"
          ]
        }
      ]
    },
    {
      "cell_type": "code",
      "metadata": {
        "id": "SxDjZJpdCi8t"
      },
      "source": [
        "@tf.function(input_signature=[tf.TensorSpec(dtype=tf.string, shape=[None])])\n",
        "def tf_translate(self, input_text):\n",
        "  return self.translate(input_text)\n",
        "\n",
        "Translator.tf_translate = tf_translate"
      ],
      "execution_count": 112,
      "outputs": []
    },
    {
      "cell_type": "code",
      "metadata": {
        "colab": {
          "base_uri": "https://localhost:8080/"
        },
        "id": "150Xslb0Ck8X",
        "outputId": "6b563abe-76c4-4a06-9d5e-ed1da720c020"
      },
      "source": [
        "%%time\n",
        "result = translator.tf_translate(\n",
        "    input_text = input_text)"
      ],
      "execution_count": 113,
      "outputs": [
        {
          "output_type": "stream",
          "name": "stdout",
          "text": [
            "CPU times: user 23 s, sys: 453 ms, total: 23.4 s\n",
            "Wall time: 23.2 s\n"
          ]
        }
      ]
    },
    {
      "cell_type": "code",
      "metadata": {
        "colab": {
          "base_uri": "https://localhost:8080/"
        },
        "id": "YM8_h-l4Cmtp",
        "outputId": "34b7bdbd-e9cf-4d73-9ed6-887eec28a952"
      },
      "source": [
        "%%time\n",
        "result = translator.tf_translate(\n",
        "    input_text = input_text)\n",
        "\n",
        "print(result['text'][0].numpy().decode())\n",
        "print(result['text'][1].numpy().decode())\n",
        "print()"
      ],
      "execution_count": 114,
      "outputs": [
        {
          "output_type": "stream",
          "name": "stdout",
          "text": [
            "he took the chair with his leg and threw it .\n",
            "we took the flight to go to jerba .\n",
            "\n",
            "CPU times: user 212 ms, sys: 32.8 ms, total: 245 ms\n",
            "Wall time: 308 ms\n"
          ]
        }
      ]
    },
    {
      "cell_type": "code",
      "metadata": {
        "id": "vlom19gLCrRn"
      },
      "source": [
        "#@title [Optional] Use a symbolic loop\n",
        "def translate_symbolic(self,\n",
        "                       input_text,\n",
        "                       *,\n",
        "                       max_length=50,\n",
        "                       return_attention=True,\n",
        "                       temperature=1.0):\n",
        "\n",
        "\n",
        "  batch_size = tf.shape(input_text)[0]\n",
        "\n",
        "  # Encode the input\n",
        "  input_tokens = self.input_text_processor(input_text)\n",
        " \n",
        "\n",
        "  enc_output, enc_state = self.encoder(input_tokens)\n",
        "  \n",
        "  # Initialize the decoder\n",
        "  dec_state = enc_state\n",
        "  new_tokens = tf.fill([batch_size, 1], self.start_token)\n",
        "\n",
        "\n",
        "  # Initialize the accumulators\n",
        "  result_tokens = tf.TensorArray(tf.int64, size=1, dynamic_size=True)\n",
        "  attention = tf.TensorArray(tf.float32, size=1, dynamic_size=True)\n",
        "  done = tf.zeros([batch_size, 1], dtype=tf.bool)\n",
        "\n",
        "\n",
        "  for t in tf.range(max_length):\n",
        "    dec_input = DecoderInput(\n",
        "        new_tokens=new_tokens, enc_output=enc_output, mask=(input_tokens != 0))\n",
        "\n",
        "    dec_result, dec_state = self.decoder(dec_input, state=dec_state)\n",
        "\n",
        "    attention = attention.write(t, dec_result.attention_weights)\n",
        "\n",
        "    new_tokens = self.sample(dec_result.logits, temperature)\n",
        "\n",
        "\n",
        "    # If a sequence produces an `end_token`, set it `done`\n",
        "    done = done | (new_tokens == self.end_token)\n",
        "    # Once a sequence is done it only produces 0-padding.\n",
        "    new_tokens = tf.where(done, tf.constant(0, dtype=tf.int64), new_tokens)\n",
        "\n",
        "    # Collect the generated tokens\n",
        "    result_tokens = result_tokens.write(t, new_tokens)\n",
        "\n",
        "    if tf.reduce_all(done):\n",
        "      break\n",
        "\n",
        "  # Convert the list of generated token ids to a list of strings.\n",
        "  result_tokens = result_tokens.stack()\n",
        "\n",
        "  result_tokens = tf.squeeze(result_tokens, -1)\n",
        "  result_tokens = tf.transpose(result_tokens, [1, 0])\n",
        " \n",
        "\n",
        "  result_text = self.tokens_to_text(result_tokens)\n",
        "  \n",
        "  if return_attention:\n",
        "    attention_stack = attention.stack()\n",
        "   \n",
        "\n",
        "    attention_stack = tf.squeeze(attention_stack, 2)\n",
        "   \n",
        "\n",
        "    attention_stack = tf.transpose(attention_stack, [1, 0, 2])\n",
        "    \n",
        "\n",
        "    return {'text': result_text, 'attention': attention_stack}\n",
        "  else:\n",
        "    return {'text': result_text}"
      ],
      "execution_count": 115,
      "outputs": []
    },
    {
      "cell_type": "code",
      "metadata": {
        "id": "VHDKSTKWCuqH"
      },
      "source": [
        "Translator.translate = translate_symbolic"
      ],
      "execution_count": 116,
      "outputs": []
    },
    {
      "cell_type": "code",
      "metadata": {
        "colab": {
          "base_uri": "https://localhost:8080/"
        },
        "id": "-kqo90iICweC",
        "outputId": "3c060075-2f82-465f-87df-e59b805ef487"
      },
      "source": [
        "%%time\n",
        "result = translator.translate(\n",
        "    input_text = input_text)\n",
        "\n",
        "print(result['text'][0].numpy().decode())\n",
        "print(result['text'][1].numpy().decode())\n",
        "print()"
      ],
      "execution_count": 117,
      "outputs": [
        {
          "output_type": "stream",
          "name": "stdout",
          "text": [
            "he took the chair with his leg and threw it .\n",
            "we took the flight to go to jerba .\n",
            "\n",
            "CPU times: user 182 ms, sys: 7.16 ms, total: 189 ms\n",
            "Wall time: 185 ms\n"
          ]
        }
      ]
    },
    {
      "cell_type": "code",
      "metadata": {
        "id": "UHF2b4ZpC0Vb"
      },
      "source": [
        "@tf.function(input_signature=[tf.TensorSpec(dtype=tf.string, shape=[None])])\n",
        "def tf_translate(self, input_text):\n",
        "  return self.translate(input_text)\n",
        "\n",
        "Translator.tf_translate = tf_translate"
      ],
      "execution_count": 118,
      "outputs": []
    },
    {
      "cell_type": "code",
      "metadata": {
        "colab": {
          "base_uri": "https://localhost:8080/"
        },
        "id": "uRRgAKaXC2b3",
        "outputId": "865c0d89-d31d-4b34-ce0f-4095743c0425"
      },
      "source": [
        "%%time\n",
        "result = translator.tf_translate(\n",
        "    input_text = input_text)"
      ],
      "execution_count": 119,
      "outputs": [
        {
          "output_type": "stream",
          "name": "stdout",
          "text": [
            "CPU times: user 1.37 s, sys: 37.3 ms, total: 1.41 s\n",
            "Wall time: 1.39 s\n"
          ]
        }
      ]
    },
    {
      "cell_type": "code",
      "metadata": {
        "colab": {
          "base_uri": "https://localhost:8080/"
        },
        "id": "K2Kh4E_7C4DO",
        "outputId": "f98aa7a2-afb5-4ade-b403-5ffb7e6a3d52"
      },
      "source": [
        "%%time\n",
        "result = translator.tf_translate(\n",
        "    input_text = input_text)\n",
        "\n",
        "print(result['text'][0].numpy().decode())\n",
        "print(result['text'][1].numpy().decode())\n",
        "print()"
      ],
      "execution_count": 120,
      "outputs": [
        {
          "output_type": "stream",
          "name": "stdout",
          "text": [
            "he took the chair with his leg and threw it .\n",
            "we took the flight to go to jerba .\n",
            "\n",
            "CPU times: user 94.8 ms, sys: 6 ms, total: 101 ms\n",
            "Wall time: 92.4 ms\n"
          ]
        }
      ]
    },
    {
      "cell_type": "code",
      "metadata": {
        "colab": {
          "base_uri": "https://localhost:8080/"
        },
        "id": "urYuD4W-C51I",
        "outputId": "1d8f656c-d3a0-4676-f6a4-3561dcfed7aa"
      },
      "source": [
        "a = result['attention'][0]\n",
        "\n",
        "print(np.sum(a, axis=-1))"
      ],
      "execution_count": 121,
      "outputs": [
        {
          "output_type": "stream",
          "name": "stdout",
          "text": [
            "[0.99999994 1.         1.         0.99999994 1.         1.\n",
            " 1.         1.0000001  0.99999994 0.99999994 1.         0.9999998 ]\n"
          ]
        }
      ]
    },
    {
      "cell_type": "code",
      "metadata": {
        "colab": {
          "base_uri": "https://localhost:8080/",
          "height": 265
        },
        "id": "yMoE3gXfC72B",
        "outputId": "b9282841-c737-43fd-f5f8-f3be8cc0431e"
      },
      "source": [
        "_ = plt.bar(range(len(a[0, :])), a[0, :])"
      ],
      "execution_count": 122,
      "outputs": [
        {
          "output_type": "display_data",
          "data": {
            "image/png": "[encoded data removed]",
            "text/plain": [
              "<Figure size 432x288 with 1 Axes>"
            ]
          },
          "metadata": {
            "needs_background": "light"
          }
        }
      ]
    },
    {
      "cell_type": "code",
      "metadata": {
        "colab": {
          "base_uri": "https://localhost:8080/",
          "height": 282
        },
        "id": "ZYEMCqAcC9ql",
        "outputId": "1cec9595-33b8-4984-b925-2254c34d4497"
      },
      "source": [
        "plt.imshow(np.array(a), vmin=0.0)"
      ],
      "execution_count": 123,
      "outputs": [
        {
          "output_type": "execute_result",
          "data": {
            "text/plain": [
              "<matplotlib.image.AxesImage at 0x7f9b35a790d0>"
            ]
          },
          "metadata": {},
          "execution_count": 123
        },
        {
          "output_type": "display_data",
          "data": {
            "image/png": "[encoded data removed]",
            "text/plain": [
              "<Figure size 432x288 with 1 Axes>"
            ]
          },
          "metadata": {
            "needs_background": "light"
          }
        }
      ]
    },
    {
      "cell_type": "code",
      "metadata": {
        "colab": {
          "base_uri": "https://localhost:8080/"
        },
        "id": "Ts0zL0L_DFoy",
        "outputId": "3d2ed510-84cf-4bcc-81e1-e2684168f648"
      },
      "source": [
        "%%time\n",
        "three_input_text = tf.constant([\n",
        "    # \"Grab the rope well and don't let go.\"\n",
        "    \"شد الحبل بالقوي وماتسيبوش\",\n",
        "    # \"I felt like he was on guard and didn't want anyone to come near him or talk with him.\"\n",
        "    \"حسيتو شاد ڨارد وما يحبش حتى حد يقربلو والا يحكي معاه\",\n",
        "    # \"He tampered with checks and so went to jail.\"\n",
        "    \"ترفك الشيكات ياخي شد الحبس\",\n",
        "])\n",
        "\n",
        "result = translator.tf_translate(three_input_text)\n",
        "\n",
        "for tr in result['text']:\n",
        "  print(tr.numpy().decode())\n",
        "\n",
        "print()"
      ],
      "execution_count": 124,
      "outputs": [
        {
          "output_type": "stream",
          "name": "stdout",
          "text": [
            "grab the rope well and dont let go .\n",
            "i felt like he was on guard and didnt want anyone to come near him or talk with him .\n",
            "he tampered with a clothes , his excellency\n",
            "\n",
            "CPU times: user 144 ms, sys: 34.6 ms, total: 179 ms\n",
            "Wall time: 157 ms\n"
          ]
        }
      ]
    },
    {
      "cell_type": "code",
      "metadata": {
        "colab": {
          "base_uri": "https://localhost:8080/"
        },
        "id": "8ZYSEz3lDrAE",
        "outputId": "d0593877-e193-45c5-9955-a37fa6aed4e4"
      },
      "source": [
        "result['text']"
      ],
      "execution_count": 125,
      "outputs": [
        {
          "output_type": "execute_result",
          "data": {
            "text/plain": [
              "<tf.Tensor: shape=(3,), dtype=string, numpy=\n",
              "array([b'grab the rope well and dont let go .',\n",
              "       b'i felt like he was on guard and didnt want anyone to come near him or talk with him .',\n",
              "       b'he tampered with a clothes , his excellency'], dtype=object)>"
            ]
          },
          "metadata": {},
          "execution_count": 125
        }
      ]
    },
    {
      "cell_type": "code",
      "metadata": {
        "id": "AC8dUDJGD0LH",
        "colab": {
          "base_uri": "https://localhost:8080/"
        },
        "outputId": "26265358-dcf3-4da7-e186-29dc5ea827c7"
      },
      "source": [
        "long_input_text = tf.constant([inp[-1]])\n",
        "\n",
        "import textwrap\n",
        "print('Expected output:\\n', '\\n'.join(textwrap.wrap(targ[-1])))"
      ],
      "execution_count": 126,
      "outputs": [
        {
          "output_type": "stream",
          "name": "stdout",
          "text": [
            "Expected output:\n",
            " the Tunisian dialect\n"
          ]
        }
      ]
    },
    {
      "cell_type": "code",
      "metadata": {
        "id": "GvzOn593D5Mk",
        "colab": {
          "base_uri": "https://localhost:8080/"
        },
        "outputId": "e8b263a2-1a03-41ee-dae5-d692b0bf339c"
      },
      "source": [
        "tf.saved_model.save(translator, 'translator',\n",
        "                    signatures={'serving_default': translator.tf_translate})"
      ],
      "execution_count": 127,
      "outputs": [
        {
          "output_type": "stream",
          "name": "stderr",
          "text": [
            "WARNING:absl:Found untraced functions such as encoder_2_layer_call_and_return_conditional_losses, encoder_2_layer_call_fn, decoder_2_layer_call_and_return_conditional_losses, decoder_2_layer_call_fn, embedding_4_layer_call_and_return_conditional_losses while saving (showing 5 of 60). These functions will not be directly callable after loading.\n"
          ]
        },
        {
          "output_type": "stream",
          "name": "stdout",
          "text": [
            "INFO:tensorflow:Assets written to: translator/assets\n"
          ]
        },
        {
          "output_type": "stream",
          "name": "stderr",
          "text": [
            "INFO:tensorflow:Assets written to: translator/assets\n"
          ]
        }
      ]
    },
    {
      "cell_type": "code",
      "metadata": {
        "id": "q3eu9JcTD7Mv"
      },
      "source": [
        "reloaded = tf.saved_model.load('translator')\n",
        "result = reloaded.tf_translate(three_input_text)"
      ],
      "execution_count": 128,
      "outputs": []
    },
    {
      "cell_type": "code",
      "metadata": {
        "id": "xyzsIcK5D9L0",
        "colab": {
          "base_uri": "https://localhost:8080/"
        },
        "outputId": "d75e6e32-243a-4b86-f140-186fb5491dd9"
      },
      "source": [
        "%%time\n",
        "result = reloaded.tf_translate(three_input_text)\n",
        "\n",
        "for tr in result['text']:\n",
        "  print(tr.numpy().decode())\n",
        "\n",
        "print()"
      ],
      "execution_count": 129,
      "outputs": [
        {
          "output_type": "stream",
          "name": "stdout",
          "text": [
            "grab the rope well and dont let go .\n",
            "i felt like he was on guard and didnt want anyone to come near him or talk with him .\n",
            "he tampered with its so stingy , was ruined\n",
            "\n",
            "CPU times: user 152 ms, sys: 22.4 ms, total: 175 ms\n",
            "Wall time: 153 ms\n"
          ]
        }
      ]
    },
    {
      "cell_type": "code",
      "metadata": {
        "colab": {
          "base_uri": "https://localhost:8080/"
        },
        "id": "KlYjFKKHiZ_t",
        "outputId": "deff92bf-05b1-493e-c072-4473d92e5e0b"
      },
      "source": [
        "%%time\n",
        "result = reloaded.tf_translate( tf.constant([\n",
        "                    \"عرضها راجلها قالها يا مهبولة آش تعمل! قتلو شبيك علااش ؟\",\n",
        "                    \"يا عمي تعطيني كعيبتين سفنج ونعطيك ه البهيم؟\"]))\n",
        "\n",
        "for tr in result['text']:\n",
        "  print(tr.numpy().decode())\n",
        "\n",
        "print()"
      ],
      "execution_count": 130,
      "outputs": [
        {
          "output_type": "stream",
          "name": "stdout",
          "text": [
            "oh it makes you sad and work in the africa .\n",
            "how terrible about you , what you have an opinion\n",
            "\n",
            "CPU times: user 85.2 ms, sys: 20.7 ms, total: 106 ms\n",
            "Wall time: 98.9 ms\n"
          ]
        }
      ]
    },
    {
      "cell_type": "code",
      "metadata": {
        "id": "UyzkJld1Kuvq"
      },
      "source": [
        "def uni_bleu(references, sentence):\n",
        "    \"\"\"function  that calculates the unigram BLEU score for a sentence\"\"\"\n",
        "    c = len(sentence)\n",
        "    bp = brevity_penalty(sentence, references)\n",
        "    words = count_clip_ngram(sentence, references)\n",
        "    p = sum(words.values())\n",
        "    return bp * p / c\n",
        "\n",
        "\n",
        "def brevity_penalty(candidate, references):\n",
        "    \"\"\"\n",
        "    Brevity Penalty\n",
        "    BP={1 if c>r or exp(1−r/c)if c≤r\n",
        "    c: length of candidate translation\n",
        "    r: effective reference length\n",
        "    \"\"\"\n",
        "    c = len(candidate)\n",
        "    r = np.array([len(r) for r in references])\n",
        "    r = np.argmin(np.abs(r - c))\n",
        "    r = len(references[r])\n",
        "    if c > r:\n",
        "        return 1\n",
        "    else:\n",
        "        return np.exp(1 - float(r) / c)\n",
        "\n",
        "\n",
        "def count_clip_ngram(sentence, references):\n",
        "    \"\"\"\n",
        "    Countclip=min(Count,Max_Ref_Count)\n",
        "    \"\"\"\n",
        "    words = dict()\n",
        "    for word in sentence:\n",
        "        for ref in references:\n",
        "            if word in words:\n",
        "                if words[word] < ref.count(word):\n",
        "                    words.update({word: ref.count(word)})\n",
        "            else:\n",
        "                words.update({word: ref.count(word)})\n",
        "    return words\n"
      ],
      "execution_count": 131,
      "outputs": []
    },
    {
      "cell_type": "code",
      "metadata": {
        "colab": {
          "base_uri": "https://localhost:8080/"
        },
        "id": "6xEGnzSxKxh0",
        "outputId": "7cbb2a7c-eb33-466c-8298-d98698137de6"
      },
      "source": [
        "references = []\n",
        "\n",
        "for eng in df['tn']:\n",
        "  references.append(eng)\n",
        "\n",
        "sentence = \"عرضها راجلها قالها يا مهبولة آش تعمل! قتلو شبيك علااش ؟\".split()\n",
        "print(uni_bleu(references, sentence))"
      ],
      "execution_count": 132,
      "outputs": [
        {
          "output_type": "stream",
          "name": "stdout",
          "text": [
            "0.45454545454545453\n"
          ]
        }
      ]
    },
    {
      "cell_type": "code",
      "metadata": {
        "colab": {
          "base_uri": "https://localhost:8080/"
        },
        "id": "2559dcW5ahot",
        "outputId": "422363ba-1c2f-459c-f250-72cb0ecea43e"
      },
      "source": [
        "sentence = \"يا عمي تعطيني كعيبتين سفنج ونعطيك ه البهيم؟\".split()\n",
        "print(uni_bleu(references, sentence))"
      ],
      "execution_count": 133,
      "outputs": [
        {
          "output_type": "stream",
          "name": "stdout",
          "text": [
            "0.75\n"
          ]
        }
      ]
    }
  ]
}