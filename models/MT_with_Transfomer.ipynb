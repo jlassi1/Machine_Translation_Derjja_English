{
  "nbformat": 4,
  "nbformat_minor": 0,
  "metadata": {
    "colab": {
      "name": "transfomer.ipynb",
      "provenance": []
    },
    "kernelspec": {
      "display_name": "Python 3",
      "name": "python3"
    },
    "language_info": {
      "name": "python"
    }
  },
  "cells": [
    {
      "cell_type": "code",
      "metadata": {
        "id": "trjYkInm4Gyv"
      },
      "source": [
        "!pip install -q tfds-nightly\n",
        "from __future__ import absolute_import, division, print_function, unicode_literals\n",
        "\n",
        "try:\n",
        "  %tensorflow_version 2.x\n",
        "except Exception:\n",
        "  pass\n",
        "import tensorflow as tf\n",
        "import tensorflow_datasets as tfds\n",
        "\n",
        "import time\n",
        "import numpy as np\n",
        "import matplotlib.pyplot as plt\n",
        "import pandas as pd\n",
        "import numpy as np\n",
        "import string\n",
        "from string import digits\n",
        "import matplotlib.pyplot as plt\n",
        "import seaborn as sns\n",
        "%matplotlib inline\n",
        "import re\n",
        "\n",
        "from sklearn.model_selection import train_test_split\n",
        "\n",
        "from keras.layers import Input, LSTM, Embedding, Dense, Bidirectional, Concatenate, Dot, Activation, TimeDistributed\n",
        "from keras.models import Model\n",
        "# from keras.utils import plot_model\n",
        "\n",
        "import time\n",
        "import pandas as pd\n",
        "\n",
        "from sklearn.model_selection import train_test_split\n",
        "\n",
        "\n"
      ],
      "execution_count": 5,
      "outputs": []
    },
    {
      "cell_type": "code",
      "metadata": {
        "id": "O2oHYIa14Lei"
      },
      "source": [
        "\n",
        "\n",
        "df = pd.read_csv('/content/pure_tunis_english_data.csv')\n",
        "\n",
        "\n",
        "\n",
        "train_data, valid_data = train_test_split(df, test_size=0.2, random_state = 42)\n",
        "train_data.to_csv('train_data.csv')\n",
        "valid_data.to_csv('valid_data.csv')\n",
        "\n",
        "train = pd.read_csv('/content/train_data.csv')\n",
        "valid = pd.read_csv('/content/valid_data.csv')\n"
      ],
      "execution_count": 6,
      "outputs": []
    },
    {
      "cell_type": "code",
      "metadata": {
        "id": "ifNtn9LzOvBV"
      },
      "source": [
        "targets = []\n",
        "inputs = []\n",
        "\n",
        "for eng in train['en']:\n",
        "  targets.append(eng)\n",
        "for tun in train['tn']:\n",
        "  inputs.append(tun)\n",
        "train_examples = tf.data.Dataset.from_tensor_slices((inputs,targets))\n",
        "\n",
        "targets = []\n",
        "inputs = []\n",
        "\n",
        "for eng in valid['en']:\n",
        "  targets.append(eng)\n",
        "for tun in valid['tn']:\n",
        "  inputs.append(tun)\n",
        "valid_examples = tf.data.Dataset.from_tensor_slices((inputs,targets))"
      ],
      "execution_count": 7,
      "outputs": []
    },
    {
      "cell_type": "code",
      "metadata": {
        "id": "SdFmah1f4Lkz"
      },
      "source": [
        "tokenizer_en = tfds.deprecated.text.SubwordTextEncoder.build_from_corpus(\n",
        "    (en.numpy() for _, en in train_examples), target_vocab_size=2**13)\n",
        "\n",
        "tokenizer_tn = tfds.deprecated.text.SubwordTextEncoder.build_from_corpus(\n",
        "    (tn.numpy() for tn, _ in train_examples), target_vocab_size=2**13)"
      ],
      "execution_count": 8,
      "outputs": []
    },
    {
      "cell_type": "code",
      "metadata": {
        "id": "0CY0bTtj42nd",
        "colab": {
          "base_uri": "https://localhost:8080/"
        },
        "outputId": "79fdf264-c3b5-4876-f4ab-bac9bd74c5d7"
      },
      "source": [
        "sample_string = \"خلي غادي ، ما تبدل شي\"\n",
        "\n",
        "tokenized_string = tokenizer_tn.encode(sample_string)\n",
        "print ('Tokenized string is {}'.format(tokenized_string))\n",
        "\n",
        "original_string = tokenizer_tn.decode(tokenized_string)\n",
        "print ('The original string: {}'.format(original_string))\n",
        "\n",
        "assert original_string == sample_string"
      ],
      "execution_count": 9,
      "outputs": [
        {
          "output_type": "stream",
          "name": "stdout",
          "text": [
            "Tokenized string is [140, 908, 196, 208, 1504, 246]\n",
            "The original string: خلي غادي ، ما تبدل شي\n"
          ]
        }
      ]
    },
    {
      "cell_type": "code",
      "metadata": {
        "id": "0t1bQuNZIJWF",
        "colab": {
          "base_uri": "https://localhost:8080/"
        },
        "outputId": "3e1551c8-5bf8-440f-ed97-b39a5f3917cf"
      },
      "source": [
        "for ts in tokenized_string:\n",
        "  print ('{} ----> {}'.format(ts, tokenizer_tn.decode([ts])))"
      ],
      "execution_count": 10,
      "outputs": [
        {
          "output_type": "stream",
          "name": "stdout",
          "text": [
            "140 ----> خلي \n",
            "908 ----> غادي\n",
            "196 ---->  ، \n",
            "208 ----> ما \n",
            "1504 ----> تبدل \n",
            "246 ----> شي\n"
          ]
        }
      ]
    },
    {
      "cell_type": "code",
      "metadata": {
        "id": "FmjoSufeJ0re"
      },
      "source": [
        "BUFFER_SIZE = 20000\n",
        "BATCH_SIZE = 64\n",
        "MAX_LENGTH = 40\n"
      ],
      "execution_count": 11,
      "outputs": []
    },
    {
      "cell_type": "code",
      "metadata": {
        "id": "0z45qn3u4f-R",
        "colab": {
          "base_uri": "https://localhost:8080/"
        },
        "outputId": "66797a1c-6e66-43a1-9f12-03b880b15e27"
      },
      "source": [
        "print(tokenizer_tn.vocab_size)\n",
        "print(tokenizer_en.vocab_size)\n",
        "print(tokenizer_tn.decode([1213]))"
      ],
      "execution_count": 12,
      "outputs": [
        {
          "output_type": "stream",
          "name": "stdout",
          "text": [
            "2149\n",
            "7007\n",
            "زمر \n"
          ]
        }
      ]
    },
    {
      "cell_type": "code",
      "metadata": {
        "id": "JasyMKNA4EIM"
      },
      "source": [
        "def encode(lang1, lang2):\n",
        "  lang1 = [tokenizer_tn.vocab_size] + tokenizer_tn.encode(\n",
        "      lang1.numpy()) + [tokenizer_tn.vocab_size+1]\n",
        "\n",
        "  lang2 = [tokenizer_en.vocab_size] + tokenizer_en.encode(\n",
        "      lang2.numpy()) + [tokenizer_en.vocab_size+1]\n",
        "  \n",
        "  return lang1, lang2"
      ],
      "execution_count": 13,
      "outputs": []
    },
    {
      "cell_type": "code",
      "metadata": {
        "id": "Wc3v36U_4cAI"
      },
      "source": [
        "def filter_max_length(x, y, max_length=MAX_LENGTH):\n",
        "  return tf.logical_and(tf.size(x) <= max_length,\n",
        "                        tf.size(y) <= max_length)"
      ],
      "execution_count": 14,
      "outputs": []
    },
    {
      "cell_type": "code",
      "metadata": {
        "id": "LXLKDbSr4kZz"
      },
      "source": [
        "def tf_encode(pt, en):\n",
        "  return tf.py_function(encode, [pt, en], [tf.int64, tf.int64])"
      ],
      "execution_count": 15,
      "outputs": []
    },
    {
      "cell_type": "code",
      "metadata": {
        "id": "VeGG_PIx4muX"
      },
      "source": [
        "train_dataset = train_examples.map(tf_encode)\n",
        "train_dataset = train_dataset.filter(filter_max_length)\n",
        "# cache the dataset to memory to get a speedup while reading from it.\n",
        "train_dataset = train_dataset.cache()\n",
        "train_dataset = train_dataset.shuffle(BUFFER_SIZE).padded_batch(\n",
        "    BATCH_SIZE, padded_shapes=([-1], [-1]))\n",
        "train_dataset = train_dataset.prefetch(tf.data.experimental.AUTOTUNE)\n",
        "\n",
        "\n",
        "val_dataset = valid_examples.map(tf_encode)\n",
        "val_dataset = val_dataset.filter(filter_max_length).padded_batch(\n",
        "    BATCH_SIZE, padded_shapes=([-1], [-1]))"
      ],
      "execution_count": 16,
      "outputs": []
    },
    {
      "cell_type": "code",
      "metadata": {
        "id": "GAIW2A3Y4qJd",
        "colab": {
          "base_uri": "https://localhost:8080/"
        },
        "outputId": "5874a703-a6e0-4b9f-d0f0-29a52d736db3"
      },
      "source": [
        "tn_batch, en_batch = next(iter(val_dataset))\n",
        "tn_batch, en_batch"
      ],
      "execution_count": 17,
      "outputs": [
        {
          "output_type": "execute_result",
          "data": {
            "text/plain": [
              "(<tf.Tensor: shape=(64, 31), dtype=int64, numpy=\n",
              " array([[2149,   10,    2, ...,    0,    0,    0],\n",
              "        [2149,   19,    1, ...,    0,    0,    0],\n",
              "        [2149,    5,    2, ...,    0,    0,    0],\n",
              "        ...,\n",
              "        [2149,   22,    4, ...,    0,    0,    0],\n",
              "        [2149,   28,    1, ...,    0,    0,    0],\n",
              "        [2149,   13,    2, ...,    0,    0,    0]])>,\n",
              " <tf.Tensor: shape=(64, 21), dtype=int64, numpy=\n",
              " array([[7007,    2, 1106, ...,    0,    0,    0],\n",
              "        [7007, 1551, 4826, ...,    0,    0,    0],\n",
              "        [7007,    6,  127, ...,    0,    0,    0],\n",
              "        ...,\n",
              "        [7007, 3748, 6865, ...,    0,    0,    0],\n",
              "        [7007,    6, 1647, ...,    0,    0,    0],\n",
              "        [7007,    2, 1099, ...,    0,    0,    0]])>)"
            ]
          },
          "metadata": {},
          "execution_count": 17
        }
      ]
    },
    {
      "cell_type": "markdown",
      "metadata": {
        "id": "NzI1anEr45Cw"
      },
      "source": [
        "# Positional encoding\n",
        "\n",
        "Since this model doesn't contain any recurrence or convolution, positional encoding is added to give the model some information about the relative position of the words in the sentence.\n",
        "\n",
        "The positional encoding vector is added to the embedding vector. Embeddings represent a token in a d-dimensional space where tokens with similar meaning will be closer to each other. But the embeddings do not encode the relative position of words in a sentence. So after adding the positional encoding, words will be closer to each other based on the similarity of their meaning and their position in the sentence, in the d-dimensional space.\n",
        "\n",
        "See the notebook on positional encoding to learn more about it. The formula for calculating the positional encoding is as follows:\n",
        "\n",
        "\n",
        "$$\\Large{PE_{(pos, 2i)} = sin(pos / 10000^{2i / d_{model}})} $$\n",
        "$$\\Large{PE_{(pos, 2i+1)} = cos(pos / 10000^{2i / d_{model}})} $$\n",
        "\n",
        "\n",
        "\n"
      ]
    },
    {
      "cell_type": "code",
      "metadata": {
        "id": "70qeUETy41XY"
      },
      "source": [
        "def get_angles(pos, i, d_model):\n",
        "  angle_rates = 1 / np.power(10000, (2 * (i//2)) / np.float32(d_model))\n",
        "  return pos * angle_rates"
      ],
      "execution_count": 18,
      "outputs": []
    },
    {
      "cell_type": "code",
      "metadata": {
        "id": "C2_AInQG6BkC"
      },
      "source": [
        "def positional_encoding(position, d_model):\n",
        "  angle_rads = get_angles(np.arange(position)[:, np.newaxis],\n",
        "                          np.arange(d_model)[np.newaxis, :],\n",
        "                          d_model)\n",
        "  \n",
        "  # apply sin to even indices in the array; 2i\n",
        "  angle_rads[:, 0::2] = np.sin(angle_rads[:, 0::2])\n",
        "  \n",
        "  # apply cos to odd indices in the array; 2i+1\n",
        "  angle_rads[:, 1::2] = np.cos(angle_rads[:, 1::2])\n",
        "\n",
        " \n",
        "  pos_encoding = angle_rads[np.newaxis, ...]\n",
        "    \n",
        "  return tf.cast(pos_encoding, dtype=tf.float32)"
      ],
      "execution_count": 19,
      "outputs": []
    },
    {
      "cell_type": "code",
      "metadata": {
        "id": "pxM77mSD6Ea5"
      },
      "source": [
        "def positional_encoding2(position, d_model):\n",
        "  angle_rads = get_angles(np.arange(position)[:, np.newaxis],\n",
        "                          np.arange(d_model)[np.newaxis, :],\n",
        "                          d_model)\n",
        "  \n",
        "  angle_rads= np.concatenate([np.sin(angle_rads),np.cos(angle_rads)], axis = -1)\n",
        "\n",
        " \n",
        "  pos_encoding = angle_rads[np.newaxis, ...]\n",
        "    \n",
        "  return tf.cast(pos_encoding, dtype=tf.float32)"
      ],
      "execution_count": 20,
      "outputs": []
    },
    {
      "cell_type": "code",
      "metadata": {
        "id": "RQd4L_vo6HEz",
        "colab": {
          "base_uri": "https://localhost:8080/",
          "height": 518
        },
        "outputId": "c7c60824-e074-44aa-ab1a-bbee1684c31e"
      },
      "source": [
        "pos_encoding = positional_encoding(50, 512)\n",
        "print (pos_encoding.shape)\n",
        "plt.figure(figsize=(14,8))\n",
        "plt.pcolormesh(pos_encoding[0], cmap='RdBu')\n",
        "plt.xlabel('Depth')\n",
        "plt.xlim((0, 512))\n",
        "plt.ylabel('Position')\n",
        "plt.colorbar()\n",
        "plt.show()"
      ],
      "execution_count": 21,
      "outputs": [
        {
          "output_type": "stream",
          "name": "stdout",
          "text": [
            "(1, 50, 512)\n"
          ]
        },
        {
          "output_type": "display_data",
          "data": {
            "image/png": "[encoded data removed]",
            "text/plain": [
              "<Figure size 1008x576 with 2 Axes>"
            ]
          },
          "metadata": {
            "needs_background": "light"
          }
        }
      ]
    },
    {
      "cell_type": "code",
      "metadata": {
        "id": "Q5MCYLYx6JYY",
        "colab": {
          "base_uri": "https://localhost:8080/",
          "height": 518
        },
        "outputId": "8a7aa94e-f54b-4b4c-ca89-95d418c0b9a7"
      },
      "source": [
        "pos_encoding2 = positional_encoding2(50, 256)\n",
        "print (pos_encoding2.shape)\n",
        "plt.figure(figsize=(14,8))\n",
        "plt.pcolormesh(pos_encoding2[0], cmap='RdBu', vmin=-1, vmax=1)\n",
        "plt.xlabel('Depth')\n",
        "plt.xlim((0, 512))\n",
        "plt.ylabel('Position')\n",
        "plt.colorbar()\n",
        "plt.show()"
      ],
      "execution_count": 22,
      "outputs": [
        {
          "output_type": "stream",
          "name": "stdout",
          "text": [
            "(1, 50, 512)\n"
          ]
        },
        {
          "output_type": "display_data",
          "data": {
            "image/png": "[encoded data removed]",
            "text/plain": [
              "<Figure size 1008x576 with 2 Axes>"
            ]
          },
          "metadata": {
            "needs_background": "light"
          }
        }
      ]
    },
    {
      "cell_type": "markdown",
      "metadata": {
        "id": "niWfinwo6UG3"
      },
      "source": [
        "\n",
        "# Masking\n",
        "\n",
        "Mask all the pad tokens in the batch of sequence. It ensures that the model does not treat padding as the input. The mask indicates where pad value `0` is present: it outputs a `1` at those locations, and a `0` otherwise.\n"
      ]
    },
    {
      "cell_type": "code",
      "metadata": {
        "id": "PCx_ThKW6MKL"
      },
      "source": [
        "def create_padding_mask(seq):\n",
        "  seq = tf.cast(tf.math.equal(seq, 0), tf.float32)\n",
        "  \n",
        "  # add extra dimensions to add the padding\n",
        "  # to the attention logits.\n",
        "  return seq[:, tf.newaxis, tf.newaxis, :]  # (batch_size, 1, 1, seq_len)"
      ],
      "execution_count": 97,
      "outputs": []
    },
    {
      "cell_type": "code",
      "metadata": {
        "id": "tdtyNXwe6fVY",
        "colab": {
          "base_uri": "https://localhost:8080/"
        },
        "outputId": "e06cef67-ca81-4449-fc98-7ec45181d6bd"
      },
      "source": [
        "x = tf.constant([[7, 6, 0, 0, 1], [1, 2, 3, 0, 0], [0, 0, 0, 4, 5]])\n",
        "create_padding_mask(x)"
      ],
      "execution_count": 98,
      "outputs": [
        {
          "output_type": "execute_result",
          "data": {
            "text/plain": [
              "<tf.Tensor: shape=(3, 1, 1, 5), dtype=float32, numpy=\n",
              "array([[[[0., 0., 1., 1., 0.]]],\n",
              "\n",
              "\n",
              "       [[[0., 0., 0., 1., 1.]]],\n",
              "\n",
              "\n",
              "       [[[1., 1., 1., 0., 0.]]]], dtype=float32)>"
            ]
          },
          "metadata": {},
          "execution_count": 98
        }
      ]
    },
    {
      "cell_type": "markdown",
      "metadata": {
        "id": "VuUtNOwp6tQ2"
      },
      "source": [
        "The look-ahead mask is used to mask the future tokens in a sequence. In other words, the mask indicates which entries should not be used.\n",
        "\n",
        "This means that to predict the third word, only the first and second word will be used. Similarly to predict the fourth word, only the first, second and the third word will be used and so on.\n"
      ]
    },
    {
      "cell_type": "code",
      "metadata": {
        "id": "DsLEJnlz6h40"
      },
      "source": [
        "def create_look_ahead_mask(size):\n",
        "  mask = 1 - tf.linalg.band_part(tf.ones((size, size)), -1, 0)\n",
        "  return mask  # (seq_len, seq_len)"
      ],
      "execution_count": 99,
      "outputs": []
    },
    {
      "cell_type": "code",
      "metadata": {
        "id": "ekfH0F_Y6zlM",
        "colab": {
          "base_uri": "https://localhost:8080/"
        },
        "outputId": "7ace13bc-71cc-4b17-d137-d6597afebf9c"
      },
      "source": [
        "tf.linalg.band_part(tf.ones((3, 3)), -1, 0)"
      ],
      "execution_count": 100,
      "outputs": [
        {
          "output_type": "execute_result",
          "data": {
            "text/plain": [
              "<tf.Tensor: shape=(3, 3), dtype=float32, numpy=\n",
              "array([[1., 0., 0.],\n",
              "       [1., 1., 0.],\n",
              "       [1., 1., 1.]], dtype=float32)>"
            ]
          },
          "metadata": {},
          "execution_count": 100
        }
      ]
    },
    {
      "cell_type": "code",
      "metadata": {
        "id": "YxL_6Oen61Qw",
        "colab": {
          "base_uri": "https://localhost:8080/"
        },
        "outputId": "fc386c88-fe38-4a38-e580-99f7a2ff8aa1"
      },
      "source": [
        "x = tf.random.uniform((1, 3))\n",
        "temp = create_look_ahead_mask(x.shape[1])\n",
        "temp"
      ],
      "execution_count": 101,
      "outputs": [
        {
          "output_type": "execute_result",
          "data": {
            "text/plain": [
              "<tf.Tensor: shape=(3, 3), dtype=float32, numpy=\n",
              "array([[0., 1., 1.],\n",
              "       [0., 0., 1.],\n",
              "       [0., 0., 0.]], dtype=float32)>"
            ]
          },
          "metadata": {},
          "execution_count": 101
        }
      ]
    },
    {
      "cell_type": "code",
      "metadata": {
        "id": "h-PtiR8M63M3"
      },
      "source": [
        "def scaled_dot_product_attention(q, k, v, mask):\n",
        "  \"\"\"Calculate the attention weights.\n",
        "  q, k, v must have matching leading dimensions.\n",
        "  k, v must have matching penultimate dimension, i.e.: seq_len_k = seq_len_v.\n",
        "  The mask has different shapes depending on its type(padding or look ahead) \n",
        "  but it must be broadcastable for addition.\n",
        "  \n",
        "  Args:\n",
        "    q: query shape == (..., seq_len_q, depth)\n",
        "    k: key shape == (..., seq_len_k, depth)\n",
        "    v: value shape == (..., seq_len_v, depth_v)\n",
        "    mask: Float tensor with shape broadcastable \n",
        "          to (..., seq_len_q, seq_len_k). Defaults to None.\n",
        "    \n",
        "  Returns:\n",
        "    output, attention_weights\n",
        "  \"\"\"\n",
        "\n",
        "  matmul_qk = tf.matmul(q, k, transpose_b=True)  # (..., seq_len_q, seq_len_k)\n",
        "  \n",
        "  # scale matmul_qk\n",
        "  dk = tf.cast(tf.shape(k)[-1], tf.float32)\n",
        "  scaled_attention_logits = matmul_qk / tf.math.sqrt(dk)\n",
        "\n",
        "  # add the mask to the scaled tensor.\n",
        "  if mask is not None:\n",
        "    scaled_attention_logits += (mask * -1e9)  \n",
        "\n",
        "  # softmax is normalized on the last axis (seq_len_k) so that the scores\n",
        "  # add up to 1.\n",
        "  attention_weights = tf.nn.softmax(scaled_attention_logits, axis=-1)  # (..., seq_len_q, seq_len_k)\n",
        "\n",
        "  output = tf.matmul(attention_weights, v)  # (..., seq_len_q, depth_v)\n",
        "\n",
        "  return output, attention_weights"
      ],
      "execution_count": 102,
      "outputs": []
    },
    {
      "cell_type": "code",
      "metadata": {
        "id": "SwJdj_1m66_8"
      },
      "source": [
        "def print_out(q, k, v):\n",
        "  temp_out, temp_attn = scaled_dot_product_attention(\n",
        "      q, k, v, None)\n",
        "  print ('Attention weights are:')\n",
        "  print (temp_attn)\n",
        "  print ('Output is:')\n",
        "  print (temp_out)"
      ],
      "execution_count": 103,
      "outputs": []
    },
    {
      "cell_type": "code",
      "metadata": {
        "id": "z7QtNjPl69SP",
        "colab": {
          "base_uri": "https://localhost:8080/"
        },
        "outputId": "7bcd9181-9a7d-4a0b-ebba-4b6f6dc9bd76"
      },
      "source": [
        "np.set_printoptions(suppress=True)\n",
        "\n",
        "temp_k = tf.constant([[10,0,0],\n",
        "                      [0,10,0],\n",
        "                      [0,0,10],\n",
        "                      [0,0,10]], dtype=tf.float32)  # (4, 3)\n",
        "\n",
        "temp_v = tf.constant([[   1,0],\n",
        "                      [  10,0],\n",
        "                      [ 100,5],\n",
        "                      [1000,6]], dtype=tf.float32)  # (4, 2)\n",
        "\n",
        "# This `query` aligns with the second `key`,\n",
        "# so the second `value` is returned.\n",
        "temp_q = tf.constant([[0, 10, 0]], dtype=tf.float32)  # (1, 3)\n",
        "print_out(temp_q, temp_k, temp_v)"
      ],
      "execution_count": 104,
      "outputs": [
        {
          "output_type": "stream",
          "name": "stdout",
          "text": [
            "Attention weights are:\n",
            "tf.Tensor([[0. 1. 0. 0.]], shape=(1, 4), dtype=float32)\n",
            "Output is:\n",
            "tf.Tensor([[10.  0.]], shape=(1, 2), dtype=float32)\n"
          ]
        }
      ]
    },
    {
      "cell_type": "code",
      "metadata": {
        "id": "s94qI8eg7AdS",
        "colab": {
          "base_uri": "https://localhost:8080/"
        },
        "outputId": "b1661ddd-0a2e-40df-c6c4-e9522837b808"
      },
      "source": [
        "# This query aligns with a repeated key (third and fourth), \n",
        "# so all associated values get averaged.\n",
        "temp_q = tf.constant([[0, 0, 10]], dtype=tf.float32)  # (1, 3)\n",
        "print_out(temp_q, temp_k, temp_v)"
      ],
      "execution_count": 105,
      "outputs": [
        {
          "output_type": "stream",
          "name": "stdout",
          "text": [
            "Attention weights are:\n",
            "tf.Tensor([[0.  0.  0.5 0.5]], shape=(1, 4), dtype=float32)\n",
            "Output is:\n",
            "tf.Tensor([[550.    5.5]], shape=(1, 2), dtype=float32)\n"
          ]
        }
      ]
    },
    {
      "cell_type": "code",
      "metadata": {
        "id": "kHZyiDX-7Dvs",
        "colab": {
          "base_uri": "https://localhost:8080/"
        },
        "outputId": "929df684-3944-490e-f225-eebdeb97fd1d"
      },
      "source": [
        "# This query aligns equally with the first and second key, \n",
        "# so their values get averaged.\n",
        "temp_q = tf.constant([[10, 10, 0]], dtype=tf.float32)  # (1, 3)\n",
        "print_out(temp_q, temp_k, temp_v)"
      ],
      "execution_count": 106,
      "outputs": [
        {
          "output_type": "stream",
          "name": "stdout",
          "text": [
            "Attention weights are:\n",
            "tf.Tensor([[0.5 0.5 0.  0. ]], shape=(1, 4), dtype=float32)\n",
            "Output is:\n",
            "tf.Tensor([[5.5 0. ]], shape=(1, 2), dtype=float32)\n"
          ]
        }
      ]
    },
    {
      "cell_type": "code",
      "metadata": {
        "id": "xbhf78Eu7F2f",
        "colab": {
          "base_uri": "https://localhost:8080/"
        },
        "outputId": "7e71178e-9ed8-4024-a1fc-f8176ca1936b"
      },
      "source": [
        "temp_q = tf.constant([[0, 0, 10], [0, 10, 0], [10, 10, 0]], dtype=tf.float32)  # (3, 3)\n",
        "print_out(temp_q, temp_k, temp_v)"
      ],
      "execution_count": 107,
      "outputs": [
        {
          "output_type": "stream",
          "name": "stdout",
          "text": [
            "Attention weights are:\n",
            "tf.Tensor(\n",
            "[[0.  0.  0.5 0.5]\n",
            " [0.  1.  0.  0. ]\n",
            " [0.5 0.5 0.  0. ]], shape=(3, 4), dtype=float32)\n",
            "Output is:\n",
            "tf.Tensor(\n",
            "[[550.    5.5]\n",
            " [ 10.    0. ]\n",
            " [  5.5   0. ]], shape=(3, 2), dtype=float32)\n"
          ]
        }
      ]
    },
    {
      "cell_type": "code",
      "metadata": {
        "id": "Bv-eV7cD7IBS"
      },
      "source": [
        "class MultiHeadAttention(tf.keras.layers.Layer):\n",
        "  def __init__(self, d_model, num_heads):\n",
        "    super(MultiHeadAttention, self).__init__()\n",
        "    self.num_heads = num_heads\n",
        "    self.d_model = d_model\n",
        "    \n",
        "    assert d_model % self.num_heads == 0\n",
        "    \n",
        "    self.depth = d_model // self.num_heads\n",
        "    \n",
        "    self.wq = tf.keras.layers.Dense(d_model)\n",
        "    self.wk = tf.keras.layers.Dense(d_model)\n",
        "    self.wv = tf.keras.layers.Dense(d_model)\n",
        "    \n",
        "    self.dense = tf.keras.layers.Dense(d_model)\n",
        "        \n",
        "  def split_heads(self, x, batch_size):\n",
        "    \"\"\"Split the last dimension into (num_heads, depth).\n",
        "    Transpose the result such that the shape is (batch_size, num_heads, seq_len, depth)\n",
        "    \"\"\"\n",
        "    x = tf.reshape(x, (batch_size, -1, self.num_heads, self.depth))\n",
        "    return tf.transpose(x, perm=[0, 2, 1, 3])\n",
        "    \n",
        "  def call(self, v, k, q, mask):\n",
        "    batch_size = tf.shape(q)[0]\n",
        "    \n",
        "    q = self.wq(q)  # (batch_size, seq_len, d_model)\n",
        "    k = self.wk(k)  # (batch_size, seq_len, d_model)\n",
        "    v = self.wv(v)  # (batch_size, seq_len, d_model)\n",
        "    \n",
        "    q = self.split_heads(q, batch_size)  # (batch_size, num_heads, seq_len_q, depth)\n",
        "    k = self.split_heads(k, batch_size)  # (batch_size, num_heads, seq_len_k, depth)\n",
        "    v = self.split_heads(v, batch_size)  # (batch_size, num_heads, seq_len_v, depth)\n",
        "    \n",
        "    # scaled_attention.shape == (batch_size, num_heads, seq_len_q, depth)\n",
        "    # attention_weights.shape == (batch_size, num_heads, seq_len_q, seq_len_k)\n",
        "    scaled_attention, attention_weights = scaled_dot_product_attention(\n",
        "        q, k, v, mask)\n",
        "    \n",
        "    scaled_attention = tf.transpose(scaled_attention, perm=[0, 2, 1, 3])  # (batch_size, seq_len_q, num_heads, depth)\n",
        "\n",
        "    concat_attention = tf.reshape(scaled_attention, \n",
        "                                  (batch_size, -1, self.d_model))  # (batch_size, seq_len_q, d_model)\n",
        "\n",
        "    output = self.dense(concat_attention)  # (batch_size, seq_len_q, d_model)\n",
        "        \n",
        "    return output, attention_weights"
      ],
      "execution_count": 108,
      "outputs": []
    },
    {
      "cell_type": "code",
      "metadata": {
        "id": "VkR1jeND7Lc6",
        "colab": {
          "base_uri": "https://localhost:8080/"
        },
        "outputId": "0deb9ede-7d65-4860-afe7-54b7c3ab74c9"
      },
      "source": [
        "temp_mha = MultiHeadAttention(d_model=512, num_heads=8)\n",
        "y = tf.random.uniform((1, 60, 512))  # (batch_size, encoder_sequence, d_model)\n",
        "out, attn = temp_mha(y, k=y, q=y, mask=None)\n",
        "out.shape, attn.shape"
      ],
      "execution_count": 109,
      "outputs": [
        {
          "output_type": "execute_result",
          "data": {
            "text/plain": [
              "(TensorShape([1, 60, 512]), TensorShape([1, 8, 60, 60]))"
            ]
          },
          "metadata": {},
          "execution_count": 109
        }
      ]
    },
    {
      "cell_type": "code",
      "metadata": {
        "id": "UL84lSBI7OW-"
      },
      "source": [
        "def point_wise_feed_forward_network(d_model, dff):\n",
        "  return tf.keras.Sequential([\n",
        "      tf.keras.layers.Dense(dff, activation='relu'),  # (batch_size, seq_len, dff)\n",
        "      tf.keras.layers.Dense(d_model)  # (batch_size, seq_len, d_model)\n",
        "  ])"
      ],
      "execution_count": 110,
      "outputs": []
    },
    {
      "cell_type": "code",
      "metadata": {
        "id": "j9GsD1HB7Q6U",
        "colab": {
          "base_uri": "https://localhost:8080/"
        },
        "outputId": "9720fd58-f3f0-405e-f6ae-aba401d2e336"
      },
      "source": [
        "sample_ffn = point_wise_feed_forward_network(512, 2048)\n",
        "sample_ffn(tf.random.uniform((64, 50, 512))).shape"
      ],
      "execution_count": 111,
      "outputs": [
        {
          "output_type": "execute_result",
          "data": {
            "text/plain": [
              "TensorShape([64, 50, 512])"
            ]
          },
          "metadata": {},
          "execution_count": 111
        }
      ]
    },
    {
      "cell_type": "code",
      "metadata": {
        "id": "dbDiADr37TYD"
      },
      "source": [
        "class EncoderLayer(tf.keras.layers.Layer):\n",
        "  def __init__(self, d_model, num_heads, dff, rate=0.1):\n",
        "    super(EncoderLayer, self).__init__()\n",
        "\n",
        "    self.mha = MultiHeadAttention(d_model, num_heads)\n",
        "    self.ffn = point_wise_feed_forward_network(d_model, dff)\n",
        "\n",
        "    self.layernorm1 = tf.keras.layers.LayerNormalization(epsilon=1e-6)\n",
        "    self.layernorm2 = tf.keras.layers.LayerNormalization(epsilon=1e-6)\n",
        "    \n",
        "    self.dropout1 = tf.keras.layers.Dropout(rate)\n",
        "    self.dropout2 = tf.keras.layers.Dropout(rate)\n",
        "    \n",
        "  def call(self, x, training, mask):\n",
        "\n",
        "    attn_output, _ = self.mha(x, x, x, mask)  # (batch_size, input_seq_len, d_model)\n",
        "    attn_output = self.dropout1(attn_output, training=training)\n",
        "    out1 = self.layernorm1(x + attn_output)  # (batch_size, input_seq_len, d_model)\n",
        "    \n",
        "    ffn_output = self.ffn(out1)  # (batch_size, input_seq_len, d_model)\n",
        "    ffn_output = self.dropout2(ffn_output, training=training)\n",
        "    out2 = self.layernorm2(out1 + ffn_output)  # (batch_size, input_seq_len, d_model)\n",
        "    \n",
        "    return out2"
      ],
      "execution_count": 112,
      "outputs": []
    },
    {
      "cell_type": "code",
      "metadata": {
        "id": "lmsUVtKJ7YPL",
        "colab": {
          "base_uri": "https://localhost:8080/"
        },
        "outputId": "f1830dc8-d473-4fb0-f6b8-34208e0a7b3d"
      },
      "source": [
        "sample_encoder_layer = EncoderLayer(512, 8, 2048)\n",
        "\n",
        "sample_encoder_layer_output = sample_encoder_layer(\n",
        "    tf.random.uniform((64, 43, 512)), False, None)\n",
        "\n",
        "sample_encoder_layer_output.shape  # (batch_size, input_seq_len, d_model)"
      ],
      "execution_count": 113,
      "outputs": [
        {
          "output_type": "execute_result",
          "data": {
            "text/plain": [
              "TensorShape([64, 43, 512])"
            ]
          },
          "metadata": {},
          "execution_count": 113
        }
      ]
    },
    {
      "cell_type": "code",
      "metadata": {
        "id": "e6rcLI-L7aBs"
      },
      "source": [
        "class DecoderLayer(tf.keras.layers.Layer):\n",
        "  def __init__(self, d_model, num_heads, dff, rate=0.1):\n",
        "    super(DecoderLayer, self).__init__()\n",
        "\n",
        "    self.mha1 = MultiHeadAttention(d_model, num_heads)\n",
        "    self.mha2 = MultiHeadAttention(d_model, num_heads)\n",
        "\n",
        "    self.ffn = point_wise_feed_forward_network(d_model, dff)\n",
        " \n",
        "    self.layernorm1 = tf.keras.layers.LayerNormalization(epsilon=1e-6)\n",
        "    self.layernorm2 = tf.keras.layers.LayerNormalization(epsilon=1e-6)\n",
        "    self.layernorm3 = tf.keras.layers.LayerNormalization(epsilon=1e-6)\n",
        "    \n",
        "    self.dropout1 = tf.keras.layers.Dropout(rate)\n",
        "    self.dropout2 = tf.keras.layers.Dropout(rate)\n",
        "    self.dropout3 = tf.keras.layers.Dropout(rate)\n",
        "    \n",
        "    \n",
        "  def call(self, x, enc_output, training, \n",
        "           look_ahead_mask, padding_mask):\n",
        "    # enc_output.shape == (batch_size, input_seq_len, d_model)\n",
        "\n",
        "    attn1, attn_weights_block1 = self.mha1(x, x, x, look_ahead_mask)  # (batch_size, target_seq_len, d_model)\n",
        "    attn1 = self.dropout1(attn1, training=training)\n",
        "    out1 = self.layernorm1(attn1 + x)\n",
        "    \n",
        "    attn2, attn_weights_block2 = self.mha2(\n",
        "        enc_output, enc_output, out1, padding_mask)  # (batch_size, target_seq_len, d_model)\n",
        "    attn2 = self.dropout2(attn2, training=training)\n",
        "    out2 = self.layernorm2(attn2 + out1)  # (batch_size, target_seq_len, d_model)\n",
        "    \n",
        "    ffn_output = self.ffn(out2)  # (batch_size, target_seq_len, d_model)\n",
        "    ffn_output = self.dropout3(ffn_output, training=training)\n",
        "    out3 = self.layernorm3(ffn_output + out2)  # (batch_size, target_seq_len, d_model)\n",
        "    \n",
        "    return out3, attn_weights_block1, attn_weights_block2"
      ],
      "execution_count": 114,
      "outputs": []
    },
    {
      "cell_type": "code",
      "metadata": {
        "id": "wswTkSX77c_4",
        "colab": {
          "base_uri": "https://localhost:8080/"
        },
        "outputId": "88dd161d-e9b0-47ef-c7f4-332c2623bf03"
      },
      "source": [
        "sample_decoder_layer = DecoderLayer(512, 8, 2048)\n",
        "\n",
        "sample_decoder_layer_output, _, _ = sample_decoder_layer(\n",
        "    tf.random.uniform((64, 50, 512)), sample_encoder_layer_output, \n",
        "    False, None, None)\n",
        "\n",
        "sample_decoder_layer_output.shape  # (batch_size, target_seq_len, d_model)"
      ],
      "execution_count": 115,
      "outputs": [
        {
          "output_type": "execute_result",
          "data": {
            "text/plain": [
              "TensorShape([64, 50, 512])"
            ]
          },
          "metadata": {},
          "execution_count": 115
        }
      ]
    },
    {
      "cell_type": "code",
      "metadata": {
        "id": "KgYPVK_j7fKG"
      },
      "source": [
        "class Encoder(tf.keras.layers.Layer):\n",
        "  def __init__(self, num_layers, d_model, num_heads, dff, input_vocab_size,\n",
        "               maximum_position_encoding, rate=0.1):\n",
        "    super(Encoder, self).__init__()\n",
        "\n",
        "    self.d_model = d_model\n",
        "    self.num_layers = num_layers\n",
        "    \n",
        "    self.embedding = tf.keras.layers.Embedding(input_vocab_size, d_model)\n",
        "    self.pos_encoding = positional_encoding(maximum_position_encoding, \n",
        "                                            self.d_model)\n",
        "    \n",
        "    \n",
        "    self.enc_layers = [EncoderLayer(d_model, num_heads, dff, rate) \n",
        "                       for _ in range(num_layers)]\n",
        "  \n",
        "    self.dropout = tf.keras.layers.Dropout(rate)\n",
        "        \n",
        "  def call(self, x, training, mask):\n",
        "\n",
        "    seq_len = tf.shape(x)[1]\n",
        "    \n",
        "    # adding embedding and position encoding.\n",
        "    x = self.embedding(x)  # (batch_size, input_seq_len, d_model)\n",
        "    x *= tf.math.sqrt(tf.cast(self.d_model, tf.float32))\n",
        "    x += self.pos_encoding[:, :seq_len, :]\n",
        "\n",
        "    x = self.dropout(x, training=training)\n",
        "    \n",
        "    for i in range(self.num_layers):\n",
        "      x = self.enc_layers[i](x, training, mask)\n",
        "    \n",
        "    return x  # (batch_size, input_seq_len, d_model)"
      ],
      "execution_count": 116,
      "outputs": []
    },
    {
      "cell_type": "code",
      "metadata": {
        "id": "Cj4vRr4i7i-9",
        "colab": {
          "base_uri": "https://localhost:8080/"
        },
        "outputId": "8d818acf-0697-4418-e4aa-ac4f526b6adb"
      },
      "source": [
        "sample_encoder = Encoder(num_layers=2, d_model=512, num_heads=8, \n",
        "                         dff=2048, input_vocab_size=8500,\n",
        "                         maximum_position_encoding=10000)\n",
        "temp_input = tf.random.uniform((64, 62), dtype=tf.int64, minval=0, maxval=200)\n",
        "\n",
        "sample_encoder_output = sample_encoder(temp_input, training=False, mask=None)\n",
        "\n",
        "print (sample_encoder_output.shape)  # (batch_size, input_seq_len, d_model)"
      ],
      "execution_count": 117,
      "outputs": [
        {
          "output_type": "stream",
          "name": "stdout",
          "text": [
            "(64, 62, 512)\n"
          ]
        }
      ]
    },
    {
      "cell_type": "code",
      "metadata": {
        "id": "jSahdT8l7llJ"
      },
      "source": [
        "class Decoder(tf.keras.layers.Layer):\n",
        "  def __init__(self, num_layers, d_model, num_heads, dff, target_vocab_size,\n",
        "               maximum_position_encoding, rate=0.1):\n",
        "    super(Decoder, self).__init__()\n",
        "\n",
        "    self.d_model = d_model\n",
        "    self.num_layers = num_layers\n",
        "    \n",
        "    self.embedding = tf.keras.layers.Embedding(target_vocab_size, d_model)\n",
        "    self.pos_encoding = positional_encoding(maximum_position_encoding, d_model)\n",
        "    \n",
        "    self.dec_layers = [DecoderLayer(d_model, num_heads, dff, rate) \n",
        "                       for _ in range(num_layers)]\n",
        "    self.dropout = tf.keras.layers.Dropout(rate)\n",
        "    \n",
        "  def call(self, x, enc_output, training, \n",
        "           look_ahead_mask, padding_mask):\n",
        "\n",
        "    seq_len = tf.shape(x)[1]\n",
        "    attention_weights = {}\n",
        "    \n",
        "    x = self.embedding(x)  # (batch_size, target_seq_len, d_model)\n",
        "    x *= tf.math.sqrt(tf.cast(self.d_model, tf.float32))\n",
        "    x += self.pos_encoding[:, :seq_len, :]\n",
        "    \n",
        "    x = self.dropout(x, training=training)\n",
        "\n",
        "    for i in range(self.num_layers):\n",
        "      x, block1, block2 = self.dec_layers[i](x, enc_output, training,\n",
        "                                             look_ahead_mask, padding_mask)\n",
        "      \n",
        "      attention_weights['decoder_layer{}_block1'.format(i+1)] = block1\n",
        "      attention_weights['decoder_layer{}_block2'.format(i+1)] = block2\n",
        "    \n",
        "    # x.shape == (batch_size, target_seq_len, d_model)\n",
        "    return x, attention_weights"
      ],
      "execution_count": 118,
      "outputs": []
    },
    {
      "cell_type": "code",
      "metadata": {
        "id": "arz5kIaM7o--",
        "colab": {
          "base_uri": "https://localhost:8080/"
        },
        "outputId": "bfd1421b-b48b-43fa-b34a-1d354732b17e"
      },
      "source": [
        "sample_decoder = Decoder(num_layers=2, d_model=512, num_heads=8, \n",
        "                         dff=2048, target_vocab_size=8000,\n",
        "                         maximum_position_encoding=5000)\n",
        "temp_input = tf.random.uniform((64, 26), dtype=tf.int64, minval=0, maxval=200)\n",
        "\n",
        "output, attn = sample_decoder(temp_input, \n",
        "                              enc_output=sample_encoder_output, \n",
        "                              training=False,\n",
        "                              look_ahead_mask=None, \n",
        "                              padding_mask=None)\n",
        "\n",
        "output.shape, attn['decoder_layer2_block2'].shape"
      ],
      "execution_count": 119,
      "outputs": [
        {
          "output_type": "execute_result",
          "data": {
            "text/plain": [
              "(TensorShape([64, 26, 512]), TensorShape([64, 8, 26, 62]))"
            ]
          },
          "metadata": {},
          "execution_count": 119
        }
      ]
    },
    {
      "cell_type": "code",
      "metadata": {
        "id": "K-pkMUHf7q7F"
      },
      "source": [
        "class Transformer(tf.keras.Model):\n",
        "  def __init__(self, num_layers, d_model, num_heads, dff, input_vocab_size, \n",
        "               target_vocab_size, pe_input, pe_target, rate=0.1):\n",
        "    super(Transformer, self).__init__()\n",
        "\n",
        "    self.encoder = Encoder(num_layers, d_model, num_heads, dff, \n",
        "                           input_vocab_size, pe_input, rate)\n",
        "\n",
        "    self.decoder = Decoder(num_layers, d_model, num_heads, dff, \n",
        "                           target_vocab_size, pe_target, rate)\n",
        "\n",
        "    self.final_layer = tf.keras.layers.Dense(target_vocab_size)\n",
        "    \n",
        "  def call(self, inp, tar, training, enc_padding_mask, \n",
        "           look_ahead_mask, dec_padding_mask):\n",
        "\n",
        "    enc_output = self.encoder(inp, training, enc_padding_mask)  # (batch_size, inp_seq_len, d_model)\n",
        "    \n",
        "    # dec_output.shape == (batch_size, tar_seq_len, d_model)\n",
        "    dec_output, attention_weights = self.decoder(\n",
        "        tar, enc_output, training, look_ahead_mask, dec_padding_mask)\n",
        "    \n",
        "    final_output = self.final_layer(dec_output)  # (batch_size, tar_seq_len, target_vocab_size)\n",
        "    \n",
        "    return final_output, attention_weights"
      ],
      "execution_count": 120,
      "outputs": []
    },
    {
      "cell_type": "code",
      "metadata": {
        "id": "gtd7QkW77vq-",
        "colab": {
          "base_uri": "https://localhost:8080/"
        },
        "outputId": "c120f7c9-bcc9-4438-c58f-982b725fed50"
      },
      "source": [
        "sample_transformer = Transformer(\n",
        "    num_layers=2, d_model=512, num_heads=8, dff=2048, \n",
        "    input_vocab_size=8500, target_vocab_size=8000, \n",
        "    pe_input=10000, pe_target=6000)\n",
        "\n",
        "temp_input = tf.random.uniform((64, 38), dtype=tf.int64, minval=0, maxval=200)\n",
        "temp_target = tf.random.uniform((64, 36), dtype=tf.int64, minval=0, maxval=200)\n",
        "\n",
        "fn_out, _ = sample_transformer(temp_input, temp_target, training=False, \n",
        "                               enc_padding_mask=None, \n",
        "                               look_ahead_mask=None,\n",
        "                               dec_padding_mask=None)\n",
        "\n",
        "fn_out.shape  # (batch_size, tar_seq_len, target_vocab_size)"
      ],
      "execution_count": 121,
      "outputs": [
        {
          "output_type": "execute_result",
          "data": {
            "text/plain": [
              "TensorShape([64, 36, 8000])"
            ]
          },
          "metadata": {},
          "execution_count": 121
        }
      ]
    },
    {
      "cell_type": "code",
      "metadata": {
        "id": "poiHmi1-7yKk"
      },
      "source": [
        "num_layers = 4\n",
        "d_model = 128\n",
        "dff = 512\n",
        "num_heads = 8\n",
        "\n",
        "input_vocab_size = tokenizer_tn.vocab_size + 2\n",
        "target_vocab_size = tokenizer_en.vocab_size + 2\n",
        "dropout_rate = 0.1"
      ],
      "execution_count": 122,
      "outputs": []
    },
    {
      "cell_type": "markdown",
      "metadata": {
        "id": "mJtg8JGv8A7R"
      },
      "source": [
        "# Optimizer\n",
        "\n",
        "Use the Adam optimizer with a custom learning rate scheduler according to the formula in the [paper](https://arxiv.org/abs/1706.03762).\n",
        "\n",
        "$$\\Large{lrate = d_{model}^{-0.5} * min(step{\\_}num^{-0.5}, step{\\_}num * warmup{\\_}steps^{-1.5})}$$\n"
      ]
    },
    {
      "cell_type": "code",
      "metadata": {
        "id": "gAVILdU67218"
      },
      "source": [
        "class CustomSchedule(tf.keras.optimizers.schedules.LearningRateSchedule):\n",
        "  def __init__(self, d_model, warmup_steps=4000):\n",
        "    super(CustomSchedule, self).__init__()\n",
        "    \n",
        "    self.d_model = d_model\n",
        "    self.d_model = tf.cast(self.d_model, tf.float32)\n",
        "\n",
        "    self.warmup_steps = warmup_steps\n",
        "    \n",
        "  def __call__(self, step):\n",
        "    arg1 = tf.math.rsqrt(step)\n",
        "    arg2 = step * (self.warmup_steps ** -1.5)\n",
        "    \n",
        "    return tf.math.rsqrt(self.d_model) * tf.math.minimum(arg1, arg2)"
      ],
      "execution_count": 49,
      "outputs": []
    },
    {
      "cell_type": "code",
      "metadata": {
        "id": "W3PDzZYA77p-"
      },
      "source": [
        "learning_rate = CustomSchedule(d_model)\n",
        "\n",
        "optimizer = tf.keras.optimizers.Adam(learning_rate, beta_1=0.9, beta_2=0.98, \n",
        "                                     epsilon=1e-9)"
      ],
      "execution_count": 50,
      "outputs": []
    },
    {
      "cell_type": "code",
      "metadata": {
        "id": "aIExNiCZ8IQN",
        "colab": {
          "base_uri": "https://localhost:8080/",
          "height": 296
        },
        "outputId": "e357b70d-c40b-49a1-e412-08150b7e75b1"
      },
      "source": [
        "temp_learning_rate_schedule = CustomSchedule(d_model)\n",
        "\n",
        "plt.plot(temp_learning_rate_schedule(tf.range(40000, dtype=tf.float32)))\n",
        "plt.ylabel(\"Learning Rate\")\n",
        "plt.xlabel(\"Train Step\")"
      ],
      "execution_count": 51,
      "outputs": [
        {
          "output_type": "execute_result",
          "data": {
            "text/plain": [
              "Text(0.5, 0, 'Train Step')"
            ]
          },
          "metadata": {},
          "execution_count": 51
        },
        {
          "output_type": "display_data",
          "data": {
            "image/png": "[encoded data removed]",
            "text/plain": [
              "<Figure size 432x288 with 1 Axes>"
            ]
          },
          "metadata": {
            "needs_background": "light"
          }
        }
      ]
    },
    {
      "cell_type": "markdown",
      "metadata": {
        "id": "PMaTBKsU8Nj6"
      },
      "source": [
        "# Loss and metrics\n",
        "\n",
        "Since the target sequences are padded, it is important to apply a padding mask when calculating the loss.\n"
      ]
    },
    {
      "cell_type": "code",
      "metadata": {
        "id": "AA7DAnbs8Kq2"
      },
      "source": [
        "loss_object = tf.keras.losses.SparseCategoricalCrossentropy(\n",
        "    from_logits=True, reduction='none')"
      ],
      "execution_count": 52,
      "outputs": []
    },
    {
      "cell_type": "code",
      "metadata": {
        "id": "PUoIh5wp8Qjb"
      },
      "source": [
        "def loss_function(real, pred):\n",
        "  mask = tf.math.logical_not(tf.math.equal(real, 0))\n",
        "  loss_ = loss_object(real, pred)\n",
        "\n",
        "  mask = tf.cast(mask, dtype=loss_.dtype)\n",
        "  loss_ *= mask\n",
        "  \n",
        "  return tf.reduce_mean(loss_)"
      ],
      "execution_count": 53,
      "outputs": []
    },
    {
      "cell_type": "code",
      "metadata": {
        "id": "azL3mstt8SP6"
      },
      "source": [
        "train_loss = tf.keras.metrics.Mean(name='train_loss')\n",
        "train_accuracy = tf.keras.metrics.SparseCategoricalAccuracy(\n",
        "    name='train_accuracy')"
      ],
      "execution_count": 54,
      "outputs": []
    },
    {
      "cell_type": "code",
      "metadata": {
        "id": "rX0SsObU8UJV"
      },
      "source": [
        "transformer = Transformer(num_layers, d_model, num_heads, dff,\n",
        "                          input_vocab_size, target_vocab_size, \n",
        "                          pe_input=input_vocab_size, \n",
        "                          pe_target=target_vocab_size,\n",
        "                          rate=dropout_rate)"
      ],
      "execution_count": 55,
      "outputs": []
    },
    {
      "cell_type": "code",
      "metadata": {
        "id": "I22i5k_S8WDf"
      },
      "source": [
        "def create_masks(inp, tar):\n",
        "  # Encoder padding mask\n",
        "  enc_padding_mask = create_padding_mask(inp)\n",
        "  \n",
        "  # Used in the 2nd attention block in the decoder.\n",
        "  # This padding mask is used to mask the encoder outputs.\n",
        "  dec_padding_mask = create_padding_mask(inp)\n",
        "  \n",
        "  # Used in the 1st attention block in the decoder.\n",
        "  # It is used to pad and mask future tokens in the input received by \n",
        "  # the decoder.\n",
        "  look_ahead_mask = create_look_ahead_mask(tf.shape(tar)[1])\n",
        "  dec_target_padding_mask = create_padding_mask(tar)\n",
        "  combined_mask = tf.maximum(dec_target_padding_mask, look_ahead_mask)\n",
        "  \n",
        "  return enc_padding_mask, combined_mask, dec_padding_mask"
      ],
      "execution_count": 56,
      "outputs": []
    },
    {
      "cell_type": "code",
      "metadata": {
        "id": "JlMQzKu58Y6X"
      },
      "source": [
        "checkpoint_path = \"./checkpoints/train\"\n",
        "\n",
        "ckpt = tf.train.Checkpoint(transformer=transformer,\n",
        "                           optimizer=optimizer)\n",
        "\n",
        "ckpt_manager = tf.train.CheckpointManager(ckpt, checkpoint_path, max_to_keep=5)\n",
        "\n",
        "# if a checkpoint exists, restore the latest checkpoint.\n",
        "if ckpt_manager.latest_checkpoint:\n",
        "  ckpt.restore(ckpt_manager.latest_checkpoint)\n",
        "  print ('Latest checkpoint restored!!')"
      ],
      "execution_count": 57,
      "outputs": []
    },
    {
      "cell_type": "code",
      "metadata": {
        "id": "gFCqdLdP8cDu"
      },
      "source": [
        "EPOCHS = 150"
      ],
      "execution_count": 83,
      "outputs": []
    },
    {
      "cell_type": "code",
      "metadata": {
        "id": "56wh6LbW8eaL"
      },
      "source": [
        "# The @tf.function trace-compiles train_step into a TF graph for faster\n",
        "# execution. The function specializes to the precise shape of the argument\n",
        "# tensors. To avoid re-tracing due to the variable sequence lengths or variable\n",
        "# batch sizes (the last batch is smaller), use input_signature to specify\n",
        "# more generic shapes.\n",
        "\n",
        "train_step_signature = [\n",
        "    tf.TensorSpec(shape=(None, None), dtype=tf.int64),\n",
        "    tf.TensorSpec(shape=(None, None), dtype=tf.int64),\n",
        "]\n",
        "\n",
        "@tf.function(input_signature=train_step_signature)\n",
        "def train_step(inp, tar):\n",
        "  tar_inp = tar[:, :-1]\n",
        "  tar_real = tar[:, 1:]\n",
        "  \n",
        "  enc_padding_mask, combined_mask, dec_padding_mask = create_masks(inp, tar_inp)\n",
        "  \n",
        "  with tf.GradientTape() as tape:\n",
        "    predictions, _ = transformer(inp, tar_inp, \n",
        "                                 True, \n",
        "                                 enc_padding_mask, \n",
        "                                 combined_mask, \n",
        "                                 dec_padding_mask)\n",
        "    loss = loss_function(tar_real, predictions)\n",
        "\n",
        "  gradients = tape.gradient(loss, transformer.trainable_variables)    \n",
        "  optimizer.apply_gradients(zip(gradients, transformer.trainable_variables))\n",
        "  \n",
        "  train_loss(loss)\n",
        "  train_accuracy(tar_real, predictions)"
      ],
      "execution_count": 84,
      "outputs": []
    },
    {
      "cell_type": "code",
      "metadata": {
        "id": "E3hK35-48jyI",
        "colab": {
          "base_uri": "https://localhost:8080/"
        },
        "outputId": "75295455-9c14-442c-9ff9-cd14845e5276"
      },
      "source": [
        "for epoch in range(EPOCHS):\n",
        "  start = time.time()\n",
        "  \n",
        "  train_loss.reset_states()\n",
        "  train_accuracy.reset_states()\n",
        "  \n",
        "  # inp -> portuguese, tar -> english\n",
        "  for (batch, (inp, tar)) in enumerate(train_dataset):\n",
        "    train_step(inp, tar)\n",
        "    \n",
        "    if batch % 50 == 0:\n",
        "      print ('Epoch {} Batch {} Loss {:.4f} Accuracy {:.4f}'.format(\n",
        "          epoch + 1, batch, train_loss.result(), train_accuracy.result()))\n",
        "      \n",
        "  if (epoch + 1) % 5 == 0:\n",
        "    ckpt_save_path = ckpt_manager.save()\n",
        "    print ('Saving checkpoint for epoch {} at {}'.format(epoch+1,\n",
        "                                                         ckpt_save_path))\n",
        "    \n",
        "  print ('Epoch {} Loss {:.4f} Accuracy {:.4f}'.format(epoch + 1, \n",
        "                                                train_loss.result(), \n",
        "                                                train_accuracy.result()))\n",
        "\n",
        "  print ('Time taken for 1 epoch: {} secs\\n'.format(time.time() - start))"
      ],
      "execution_count": 85,
      "outputs": [
        {
          "output_type": "stream",
          "name": "stdout",
          "text": [
            "Epoch 1 Batch 0 Loss 0.0543 Accuracy 0.4240\n",
            "Epoch 1 Batch 50 Loss 0.0376 Accuracy 0.3259\n",
            "Epoch 1 Batch 100 Loss 0.0423 Accuracy 0.3285\n",
            "Epoch 1 Batch 150 Loss 0.0471 Accuracy 0.3307\n",
            "Epoch 1 Loss 0.0482 Accuracy 0.3271\n",
            "Time taken for 1 epoch: 150.57244873046875 secs\n",
            "\n",
            "Epoch 2 Batch 0 Loss 0.0507 Accuracy 0.4313\n",
            "Epoch 2 Batch 50 Loss 0.0363 Accuracy 0.3165\n",
            "Epoch 2 Batch 100 Loss 0.0415 Accuracy 0.3228\n",
            "Epoch 2 Batch 150 Loss 0.0471 Accuracy 0.3242\n",
            "Epoch 2 Loss 0.0485 Accuracy 0.3246\n",
            "Time taken for 1 epoch: 145.41838026046753 secs\n",
            "\n",
            "Epoch 3 Batch 0 Loss 0.0611 Accuracy 0.3688\n",
            "Epoch 3 Batch 50 Loss 0.0390 Accuracy 0.3274\n",
            "Epoch 3 Batch 100 Loss 0.0427 Accuracy 0.3262\n",
            "Epoch 3 Batch 150 Loss 0.0471 Accuracy 0.3299\n",
            "Epoch 3 Loss 0.0479 Accuracy 0.3283\n",
            "Time taken for 1 epoch: 137.68460130691528 secs\n",
            "\n",
            "Epoch 4 Batch 0 Loss 0.0201 Accuracy 0.2706\n",
            "Epoch 4 Batch 50 Loss 0.0358 Accuracy 0.3378\n",
            "Epoch 4 Batch 100 Loss 0.0427 Accuracy 0.3377\n",
            "Epoch 4 Batch 150 Loss 0.0468 Accuracy 0.3299\n",
            "Epoch 4 Loss 0.0480 Accuracy 0.3315\n",
            "Time taken for 1 epoch: 142.47661542892456 secs\n",
            "\n",
            "Epoch 5 Batch 0 Loss 0.0313 Accuracy 0.3008\n",
            "Epoch 5 Batch 50 Loss 0.0364 Accuracy 0.3197\n",
            "Epoch 5 Batch 100 Loss 0.0420 Accuracy 0.3340\n",
            "Epoch 5 Batch 150 Loss 0.0468 Accuracy 0.3277\n",
            "Saving checkpoint for epoch 5 at ./checkpoints/train/ckpt-31\n",
            "Epoch 5 Loss 0.0479 Accuracy 0.3279\n",
            "Time taken for 1 epoch: 139.4600954055786 secs\n",
            "\n",
            "Epoch 6 Batch 0 Loss 0.0354 Accuracy 0.3812\n",
            "Epoch 6 Batch 50 Loss 0.0368 Accuracy 0.3346\n",
            "Epoch 6 Batch 100 Loss 0.0420 Accuracy 0.3369\n",
            "Epoch 6 Batch 150 Loss 0.0459 Accuracy 0.3313\n",
            "Epoch 6 Loss 0.0469 Accuracy 0.3294\n",
            "Time taken for 1 epoch: 144.57855796813965 secs\n",
            "\n",
            "Epoch 7 Batch 0 Loss 0.0263 Accuracy 0.3525\n",
            "Epoch 7 Batch 50 Loss 0.0373 Accuracy 0.3328\n",
            "Epoch 7 Batch 100 Loss 0.0403 Accuracy 0.3293\n",
            "Epoch 7 Batch 150 Loss 0.0458 Accuracy 0.3312\n",
            "Epoch 7 Loss 0.0467 Accuracy 0.3292\n",
            "Time taken for 1 epoch: 141.99720430374146 secs\n",
            "\n",
            "Epoch 8 Batch 0 Loss 0.0392 Accuracy 0.3539\n",
            "Epoch 8 Batch 50 Loss 0.0377 Accuracy 0.3236\n",
            "Epoch 8 Batch 100 Loss 0.0417 Accuracy 0.3249\n",
            "Epoch 8 Batch 150 Loss 0.0450 Accuracy 0.3228\n",
            "Epoch 8 Loss 0.0459 Accuracy 0.3230\n",
            "Time taken for 1 epoch: 137.2132318019867 secs\n",
            "\n",
            "Epoch 9 Batch 0 Loss 0.0363 Accuracy 0.3781\n",
            "Epoch 9 Batch 50 Loss 0.0380 Accuracy 0.3411\n",
            "Epoch 9 Batch 100 Loss 0.0410 Accuracy 0.3369\n",
            "Epoch 9 Batch 150 Loss 0.0452 Accuracy 0.3297\n",
            "Epoch 9 Loss 0.0465 Accuracy 0.3304\n",
            "Time taken for 1 epoch: 137.22634482383728 secs\n",
            "\n",
            "Epoch 10 Batch 0 Loss 0.0387 Accuracy 0.4219\n",
            "Epoch 10 Batch 50 Loss 0.0366 Accuracy 0.3325\n",
            "Epoch 10 Batch 100 Loss 0.0415 Accuracy 0.3301\n",
            "Epoch 10 Batch 150 Loss 0.0453 Accuracy 0.3280\n",
            "Saving checkpoint for epoch 10 at ./checkpoints/train/ckpt-32\n",
            "Epoch 10 Loss 0.0466 Accuracy 0.3280\n",
            "Time taken for 1 epoch: 130.1838080883026 secs\n",
            "\n",
            "Epoch 11 Batch 0 Loss 0.0274 Accuracy 0.3761\n",
            "Epoch 11 Batch 50 Loss 0.0326 Accuracy 0.3139\n",
            "Epoch 11 Batch 100 Loss 0.0378 Accuracy 0.3261\n",
            "Epoch 11 Batch 150 Loss 0.0441 Accuracy 0.3291\n",
            "Epoch 11 Loss 0.0452 Accuracy 0.3280\n",
            "Time taken for 1 epoch: 127.41894555091858 secs\n",
            "\n",
            "Epoch 12 Batch 0 Loss 0.0328 Accuracy 0.2783\n",
            "Epoch 12 Batch 50 Loss 0.0358 Accuracy 0.3249\n",
            "Epoch 12 Batch 100 Loss 0.0400 Accuracy 0.3283\n",
            "Epoch 12 Batch 150 Loss 0.0445 Accuracy 0.3298\n",
            "Epoch 12 Loss 0.0456 Accuracy 0.3280\n",
            "Time taken for 1 epoch: 125.62135767936707 secs\n",
            "\n",
            "Epoch 13 Batch 0 Loss 0.0352 Accuracy 0.3212\n",
            "Epoch 13 Batch 50 Loss 0.0343 Accuracy 0.3465\n",
            "Epoch 13 Batch 100 Loss 0.0392 Accuracy 0.3374\n",
            "Epoch 13 Batch 150 Loss 0.0427 Accuracy 0.3288\n",
            "Epoch 13 Loss 0.0433 Accuracy 0.3277\n",
            "Time taken for 1 epoch: 126.45565390586853 secs\n",
            "\n",
            "Epoch 14 Batch 0 Loss 0.0236 Accuracy 0.3289\n",
            "Epoch 14 Batch 50 Loss 0.0362 Accuracy 0.3356\n",
            "Epoch 14 Batch 100 Loss 0.0395 Accuracy 0.3335\n",
            "Epoch 14 Batch 150 Loss 0.0448 Accuracy 0.3311\n",
            "Epoch 14 Loss 0.0460 Accuracy 0.3317\n",
            "Time taken for 1 epoch: 124.91261768341064 secs\n",
            "\n",
            "Epoch 15 Batch 0 Loss 0.0390 Accuracy 0.2908\n",
            "Epoch 15 Batch 50 Loss 0.0370 Accuracy 0.3309\n",
            "Epoch 15 Batch 100 Loss 0.0392 Accuracy 0.3239\n",
            "Epoch 15 Batch 150 Loss 0.0435 Accuracy 0.3295\n",
            "Saving checkpoint for epoch 15 at ./checkpoints/train/ckpt-33\n",
            "Epoch 15 Loss 0.0442 Accuracy 0.3294\n",
            "Time taken for 1 epoch: 125.64094424247742 secs\n",
            "\n",
            "Epoch 16 Batch 0 Loss 0.0280 Accuracy 0.3951\n",
            "Epoch 16 Batch 50 Loss 0.0337 Accuracy 0.3299\n",
            "Epoch 16 Batch 100 Loss 0.0399 Accuracy 0.3266\n",
            "Epoch 16 Batch 150 Loss 0.0439 Accuracy 0.3281\n",
            "Epoch 16 Loss 0.0447 Accuracy 0.3279\n",
            "Time taken for 1 epoch: 125.65092492103577 secs\n",
            "\n",
            "Epoch 17 Batch 0 Loss 0.0329 Accuracy 0.3010\n",
            "Epoch 17 Batch 50 Loss 0.0361 Accuracy 0.3355\n",
            "Epoch 17 Batch 100 Loss 0.0390 Accuracy 0.3334\n",
            "Epoch 17 Batch 150 Loss 0.0440 Accuracy 0.3358\n",
            "Epoch 17 Loss 0.0448 Accuracy 0.3342\n",
            "Time taken for 1 epoch: 123.43183135986328 secs\n",
            "\n",
            "Epoch 18 Batch 0 Loss 0.0318 Accuracy 0.2805\n",
            "Epoch 18 Batch 50 Loss 0.0314 Accuracy 0.3175\n",
            "Epoch 18 Batch 100 Loss 0.0373 Accuracy 0.3295\n",
            "Epoch 18 Batch 150 Loss 0.0412 Accuracy 0.3266\n",
            "Epoch 18 Loss 0.0421 Accuracy 0.3266\n",
            "Time taken for 1 epoch: 126.48186445236206 secs\n",
            "\n",
            "Epoch 19 Batch 0 Loss 0.0257 Accuracy 0.3012\n",
            "Epoch 19 Batch 50 Loss 0.0313 Accuracy 0.3132\n",
            "Epoch 19 Batch 100 Loss 0.0364 Accuracy 0.3215\n",
            "Epoch 19 Batch 150 Loss 0.0418 Accuracy 0.3238\n",
            "Epoch 19 Loss 0.0430 Accuracy 0.3252\n",
            "Time taken for 1 epoch: 125.18325066566467 secs\n",
            "\n",
            "Epoch 20 Batch 0 Loss 0.0241 Accuracy 0.2318\n",
            "Epoch 20 Batch 50 Loss 0.0360 Accuracy 0.3319\n",
            "Epoch 20 Batch 100 Loss 0.0388 Accuracy 0.3319\n",
            "Epoch 20 Batch 150 Loss 0.0424 Accuracy 0.3327\n",
            "Saving checkpoint for epoch 20 at ./checkpoints/train/ckpt-34\n",
            "Epoch 20 Loss 0.0437 Accuracy 0.3340\n",
            "Time taken for 1 epoch: 123.56381487846375 secs\n",
            "\n",
            "Epoch 21 Batch 0 Loss 0.0368 Accuracy 0.4319\n",
            "Epoch 21 Batch 50 Loss 0.0327 Accuracy 0.3267\n",
            "Epoch 21 Batch 100 Loss 0.0388 Accuracy 0.3345\n",
            "Epoch 21 Batch 150 Loss 0.0424 Accuracy 0.3314\n",
            "Epoch 21 Loss 0.0432 Accuracy 0.3308\n",
            "Time taken for 1 epoch: 125.35565447807312 secs\n",
            "\n",
            "Epoch 22 Batch 0 Loss 0.0284 Accuracy 0.4029\n",
            "Epoch 22 Batch 50 Loss 0.0303 Accuracy 0.3227\n",
            "Epoch 22 Batch 100 Loss 0.0363 Accuracy 0.3307\n",
            "Epoch 22 Batch 150 Loss 0.0402 Accuracy 0.3302\n",
            "Epoch 22 Loss 0.0413 Accuracy 0.3296\n",
            "Time taken for 1 epoch: 124.61153888702393 secs\n",
            "\n",
            "Epoch 23 Batch 0 Loss 0.0316 Accuracy 0.2756\n",
            "Epoch 23 Batch 50 Loss 0.0350 Accuracy 0.3297\n",
            "Epoch 23 Batch 100 Loss 0.0404 Accuracy 0.3297\n",
            "Epoch 23 Batch 150 Loss 0.0428 Accuracy 0.3281\n",
            "Epoch 23 Loss 0.0431 Accuracy 0.3275\n",
            "Time taken for 1 epoch: 125.79862999916077 secs\n",
            "\n",
            "Epoch 24 Batch 0 Loss 0.0363 Accuracy 0.3389\n",
            "Epoch 24 Batch 50 Loss 0.0329 Accuracy 0.3325\n",
            "Epoch 24 Batch 100 Loss 0.0370 Accuracy 0.3280\n",
            "Epoch 24 Batch 150 Loss 0.0421 Accuracy 0.3301\n",
            "Epoch 24 Loss 0.0430 Accuracy 0.3313\n",
            "Time taken for 1 epoch: 124.23767566680908 secs\n",
            "\n",
            "Epoch 25 Batch 0 Loss 0.0288 Accuracy 0.4111\n",
            "Epoch 25 Batch 50 Loss 0.0336 Accuracy 0.3275\n",
            "Epoch 25 Batch 100 Loss 0.0363 Accuracy 0.3264\n",
            "Epoch 25 Batch 150 Loss 0.0411 Accuracy 0.3302\n",
            "Saving checkpoint for epoch 25 at ./checkpoints/train/ckpt-35\n",
            "Epoch 25 Loss 0.0418 Accuracy 0.3290\n",
            "Time taken for 1 epoch: 126.80358242988586 secs\n",
            "\n",
            "Epoch 26 Batch 0 Loss 0.0338 Accuracy 0.3211\n",
            "Epoch 26 Batch 50 Loss 0.0337 Accuracy 0.3230\n",
            "Epoch 26 Batch 100 Loss 0.0374 Accuracy 0.3279\n",
            "Epoch 26 Batch 150 Loss 0.0413 Accuracy 0.3246\n",
            "Epoch 26 Loss 0.0423 Accuracy 0.3267\n",
            "Time taken for 1 epoch: 125.74457883834839 secs\n",
            "\n",
            "Epoch 27 Batch 0 Loss 0.0599 Accuracy 0.4475\n",
            "Epoch 27 Batch 50 Loss 0.0331 Accuracy 0.3197\n",
            "Epoch 27 Batch 100 Loss 0.0360 Accuracy 0.3267\n",
            "Epoch 27 Batch 150 Loss 0.0405 Accuracy 0.3274\n",
            "Epoch 27 Loss 0.0419 Accuracy 0.3288\n",
            "Time taken for 1 epoch: 126.16504645347595 secs\n",
            "\n",
            "Epoch 28 Batch 0 Loss 0.0361 Accuracy 0.3141\n",
            "Epoch 28 Batch 50 Loss 0.0325 Accuracy 0.3313\n",
            "Epoch 28 Batch 100 Loss 0.0377 Accuracy 0.3321\n",
            "Epoch 28 Batch 150 Loss 0.0418 Accuracy 0.3299\n",
            "Epoch 28 Loss 0.0429 Accuracy 0.3302\n",
            "Time taken for 1 epoch: 125.58034539222717 secs\n",
            "\n",
            "Epoch 29 Batch 0 Loss 0.0313 Accuracy 0.4442\n",
            "Epoch 29 Batch 50 Loss 0.0351 Accuracy 0.3431\n",
            "Epoch 29 Batch 100 Loss 0.0376 Accuracy 0.3322\n",
            "Epoch 29 Batch 150 Loss 0.0420 Accuracy 0.3312\n",
            "Epoch 29 Loss 0.0429 Accuracy 0.3301\n",
            "Time taken for 1 epoch: 126.35277247428894 secs\n",
            "\n",
            "Epoch 30 Batch 0 Loss 0.0312 Accuracy 0.2984\n",
            "Epoch 30 Batch 50 Loss 0.0321 Accuracy 0.3321\n",
            "Epoch 30 Batch 100 Loss 0.0376 Accuracy 0.3361\n",
            "Epoch 30 Batch 150 Loss 0.0414 Accuracy 0.3315\n",
            "Saving checkpoint for epoch 30 at ./checkpoints/train/ckpt-36\n",
            "Epoch 30 Loss 0.0423 Accuracy 0.3303\n",
            "Time taken for 1 epoch: 123.79653477668762 secs\n",
            "\n",
            "Epoch 31 Batch 0 Loss 0.0245 Accuracy 0.3682\n",
            "Epoch 31 Batch 50 Loss 0.0296 Accuracy 0.3231\n",
            "Epoch 31 Batch 100 Loss 0.0352 Accuracy 0.3311\n",
            "Epoch 31 Batch 150 Loss 0.0396 Accuracy 0.3305\n",
            "Epoch 31 Loss 0.0405 Accuracy 0.3308\n",
            "Time taken for 1 epoch: 123.5154914855957 secs\n",
            "\n",
            "Epoch 32 Batch 0 Loss 0.0206 Accuracy 0.2990\n",
            "Epoch 32 Batch 50 Loss 0.0314 Accuracy 0.3262\n",
            "Epoch 32 Batch 100 Loss 0.0361 Accuracy 0.3268\n",
            "Epoch 32 Batch 150 Loss 0.0406 Accuracy 0.3309\n",
            "Epoch 32 Loss 0.0413 Accuracy 0.3315\n",
            "Time taken for 1 epoch: 123.82031869888306 secs\n",
            "\n",
            "Epoch 33 Batch 0 Loss 0.0228 Accuracy 0.2664\n",
            "Epoch 33 Batch 50 Loss 0.0327 Accuracy 0.3299\n",
            "Epoch 33 Batch 100 Loss 0.0350 Accuracy 0.3268\n",
            "Epoch 33 Batch 150 Loss 0.0391 Accuracy 0.3303\n",
            "Epoch 33 Loss 0.0407 Accuracy 0.3315\n",
            "Time taken for 1 epoch: 124.46239185333252 secs\n",
            "\n",
            "Epoch 34 Batch 0 Loss 0.0153 Accuracy 0.3796\n",
            "Epoch 34 Batch 50 Loss 0.0314 Accuracy 0.3352\n",
            "Epoch 34 Batch 100 Loss 0.0359 Accuracy 0.3383\n",
            "Epoch 34 Batch 150 Loss 0.0396 Accuracy 0.3340\n",
            "Epoch 34 Loss 0.0403 Accuracy 0.3322\n",
            "Time taken for 1 epoch: 123.11368465423584 secs\n",
            "\n",
            "Epoch 35 Batch 0 Loss 0.0180 Accuracy 0.3147\n",
            "Epoch 35 Batch 50 Loss 0.0307 Accuracy 0.3367\n",
            "Epoch 35 Batch 100 Loss 0.0350 Accuracy 0.3307\n",
            "Epoch 35 Batch 150 Loss 0.0395 Accuracy 0.3310\n",
            "Saving checkpoint for epoch 35 at ./checkpoints/train/ckpt-37\n",
            "Epoch 35 Loss 0.0402 Accuracy 0.3307\n",
            "Time taken for 1 epoch: 124.31409215927124 secs\n",
            "\n",
            "Epoch 36 Batch 0 Loss 0.0375 Accuracy 0.3213\n",
            "Epoch 36 Batch 50 Loss 0.0343 Accuracy 0.3382\n",
            "Epoch 36 Batch 100 Loss 0.0379 Accuracy 0.3405\n",
            "Epoch 36 Batch 150 Loss 0.0408 Accuracy 0.3337\n",
            "Epoch 36 Loss 0.0411 Accuracy 0.3311\n",
            "Time taken for 1 epoch: 124.35824775695801 secs\n",
            "\n",
            "Epoch 37 Batch 0 Loss 0.0275 Accuracy 0.3418\n",
            "Epoch 37 Batch 50 Loss 0.0301 Accuracy 0.3281\n",
            "Epoch 37 Batch 100 Loss 0.0352 Accuracy 0.3315\n",
            "Epoch 37 Batch 150 Loss 0.0391 Accuracy 0.3310\n",
            "Epoch 37 Loss 0.0398 Accuracy 0.3314\n",
            "Time taken for 1 epoch: 124.56960678100586 secs\n",
            "\n",
            "Epoch 38 Batch 0 Loss 0.0139 Accuracy 0.2494\n",
            "Epoch 38 Batch 50 Loss 0.0295 Accuracy 0.3286\n",
            "Epoch 38 Batch 100 Loss 0.0340 Accuracy 0.3248\n",
            "Epoch 38 Batch 150 Loss 0.0381 Accuracy 0.3257\n",
            "Epoch 38 Loss 0.0392 Accuracy 0.3262\n",
            "Time taken for 1 epoch: 126.06922316551208 secs\n",
            "\n",
            "Epoch 39 Batch 0 Loss 0.0126 Accuracy 0.2602\n",
            "Epoch 39 Batch 50 Loss 0.0307 Accuracy 0.3371\n",
            "Epoch 39 Batch 100 Loss 0.0352 Accuracy 0.3392\n",
            "Epoch 39 Batch 150 Loss 0.0383 Accuracy 0.3313\n",
            "Epoch 39 Loss 0.0396 Accuracy 0.3309\n",
            "Time taken for 1 epoch: 124.70353388786316 secs\n",
            "\n",
            "Epoch 40 Batch 0 Loss 0.0250 Accuracy 0.3474\n",
            "Epoch 40 Batch 50 Loss 0.0295 Accuracy 0.3268\n",
            "Epoch 40 Batch 100 Loss 0.0342 Accuracy 0.3346\n",
            "Epoch 40 Batch 150 Loss 0.0392 Accuracy 0.3339\n",
            "Saving checkpoint for epoch 40 at ./checkpoints/train/ckpt-38\n",
            "Epoch 40 Loss 0.0397 Accuracy 0.3323\n",
            "Time taken for 1 epoch: 124.5096583366394 secs\n",
            "\n",
            "Epoch 41 Batch 0 Loss 0.0440 Accuracy 0.4414\n",
            "Epoch 41 Batch 50 Loss 0.0293 Accuracy 0.3356\n",
            "Epoch 41 Batch 100 Loss 0.0339 Accuracy 0.3298\n",
            "Epoch 41 Batch 150 Loss 0.0379 Accuracy 0.3302\n",
            "Epoch 41 Loss 0.0394 Accuracy 0.3311\n",
            "Time taken for 1 epoch: 124.35611844062805 secs\n",
            "\n",
            "Epoch 42 Batch 0 Loss 0.0452 Accuracy 0.4000\n",
            "Epoch 42 Batch 50 Loss 0.0310 Accuracy 0.3379\n",
            "Epoch 42 Batch 100 Loss 0.0340 Accuracy 0.3317\n",
            "Epoch 42 Batch 150 Loss 0.0374 Accuracy 0.3302\n",
            "Epoch 42 Loss 0.0384 Accuracy 0.3291\n",
            "Time taken for 1 epoch: 124.83118176460266 secs\n",
            "\n",
            "Epoch 43 Batch 0 Loss 0.0144 Accuracy 0.3594\n",
            "Epoch 43 Batch 50 Loss 0.0284 Accuracy 0.3252\n",
            "Epoch 43 Batch 100 Loss 0.0332 Accuracy 0.3297\n",
            "Epoch 43 Batch 150 Loss 0.0381 Accuracy 0.3297\n",
            "Epoch 43 Loss 0.0393 Accuracy 0.3295\n",
            "Time taken for 1 epoch: 124.56893754005432 secs\n",
            "\n",
            "Epoch 44 Batch 0 Loss 0.0125 Accuracy 0.2296\n",
            "Epoch 44 Batch 50 Loss 0.0289 Accuracy 0.3400\n",
            "Epoch 44 Batch 100 Loss 0.0336 Accuracy 0.3366\n",
            "Epoch 44 Batch 150 Loss 0.0371 Accuracy 0.3337\n",
            "Epoch 44 Loss 0.0379 Accuracy 0.3339\n",
            "Time taken for 1 epoch: 123.13571238517761 secs\n",
            "\n",
            "Epoch 45 Batch 0 Loss 0.0263 Accuracy 0.3819\n",
            "Epoch 45 Batch 50 Loss 0.0288 Accuracy 0.3265\n",
            "Epoch 45 Batch 100 Loss 0.0324 Accuracy 0.3315\n",
            "Epoch 45 Batch 150 Loss 0.0365 Accuracy 0.3333\n",
            "Saving checkpoint for epoch 45 at ./checkpoints/train/ckpt-39\n",
            "Epoch 45 Loss 0.0376 Accuracy 0.3311\n",
            "Time taken for 1 epoch: 123.49202346801758 secs\n",
            "\n",
            "Epoch 46 Batch 0 Loss 0.0378 Accuracy 0.3493\n",
            "Epoch 46 Batch 50 Loss 0.0308 Accuracy 0.3205\n",
            "Epoch 46 Batch 100 Loss 0.0346 Accuracy 0.3322\n",
            "Epoch 46 Batch 150 Loss 0.0379 Accuracy 0.3326\n",
            "Epoch 46 Loss 0.0384 Accuracy 0.3301\n",
            "Time taken for 1 epoch: 124.12159895896912 secs\n",
            "\n",
            "Epoch 47 Batch 0 Loss 0.0255 Accuracy 0.4401\n",
            "Epoch 47 Batch 50 Loss 0.0295 Accuracy 0.3391\n",
            "Epoch 47 Batch 100 Loss 0.0328 Accuracy 0.3317\n",
            "Epoch 47 Batch 150 Loss 0.0366 Accuracy 0.3298\n",
            "Epoch 47 Loss 0.0370 Accuracy 0.3293\n",
            "Time taken for 1 epoch: 124.48420429229736 secs\n",
            "\n",
            "Epoch 48 Batch 0 Loss 0.0291 Accuracy 0.3962\n",
            "Epoch 48 Batch 50 Loss 0.0315 Accuracy 0.3297\n",
            "Epoch 48 Batch 100 Loss 0.0345 Accuracy 0.3390\n",
            "Epoch 48 Batch 150 Loss 0.0384 Accuracy 0.3317\n",
            "Epoch 48 Loss 0.0392 Accuracy 0.3305\n",
            "Time taken for 1 epoch: 124.0850121974945 secs\n",
            "\n",
            "Epoch 49 Batch 0 Loss 0.0225 Accuracy 0.3602\n",
            "Epoch 49 Batch 50 Loss 0.0336 Accuracy 0.3412\n",
            "Epoch 49 Batch 100 Loss 0.0352 Accuracy 0.3359\n",
            "Epoch 49 Batch 150 Loss 0.0375 Accuracy 0.3322\n",
            "Epoch 49 Loss 0.0381 Accuracy 0.3301\n",
            "Time taken for 1 epoch: 124.49106216430664 secs\n",
            "\n",
            "Epoch 50 Batch 0 Loss 0.0327 Accuracy 0.4308\n",
            "Epoch 50 Batch 50 Loss 0.0282 Accuracy 0.3312\n",
            "Epoch 50 Batch 100 Loss 0.0334 Accuracy 0.3297\n",
            "Epoch 50 Batch 150 Loss 0.0378 Accuracy 0.3313\n",
            "Saving checkpoint for epoch 50 at ./checkpoints/train/ckpt-40\n",
            "Epoch 50 Loss 0.0387 Accuracy 0.3319\n",
            "Time taken for 1 epoch: 124.2348620891571 secs\n",
            "\n"
          ]
        }
      ]
    },
    {
      "cell_type": "code",
      "metadata": {
        "id": "aQSeG33o8mgN"
      },
      "source": [
        "def evaluate(inp_sentence):\n",
        "  start_token = [tokenizer_tn.vocab_size]\n",
        "  end_token = [tokenizer_tn.vocab_size + 1]\n",
        "  \n",
        "  # inp sentence is portuguese, hence adding the start and end token\n",
        "  inp_sentence = start_token + tokenizer_tn.encode(inp_sentence) + end_token\n",
        "  encoder_input = tf.expand_dims(inp_sentence, 0)\n",
        "  \n",
        "  # as the target is english, the first word to the transformer should be the\n",
        "  # english start token.\n",
        "  decoder_input = [tokenizer_en.vocab_size]\n",
        "  output = tf.expand_dims(decoder_input, 0)\n",
        "    \n",
        "  for i in range(MAX_LENGTH):\n",
        "    enc_padding_mask, combined_mask, dec_padding_mask = create_masks(\n",
        "        encoder_input, output)\n",
        "  \n",
        "    # predictions.shape == (batch_size, seq_len, vocab_size)\n",
        "    predictions, attention_weights = transformer(encoder_input, \n",
        "                                                 output,\n",
        "                                                 False,\n",
        "                                                 enc_padding_mask,\n",
        "                                                 combined_mask,\n",
        "                                                 dec_padding_mask)\n",
        "    \n",
        "    # select the last word from the seq_len dimension\n",
        "    predictions = predictions[: ,-1:, :]  # (batch_size, 1, vocab_size)\n",
        "\n",
        "    predicted_id = tf.cast(tf.argmax(predictions, axis=-1), tf.int32)\n",
        "    \n",
        "    # return the result if the predicted_id is equal to the end token\n",
        "    if predicted_id == tokenizer_en.vocab_size+1:\n",
        "      return tf.squeeze(output, axis=0), attention_weights\n",
        "    \n",
        "    # concatentate the predicted_id to the output which is given to the decoder\n",
        "    # as its input.\n",
        "    output = tf.concat([output, predicted_id], axis=-1)\n",
        "\n",
        "  return tf.squeeze(output, axis=0), attention_weights"
      ],
      "execution_count": 86,
      "outputs": []
    },
    {
      "cell_type": "code",
      "metadata": {
        "id": "cHIVXUqe8sKj"
      },
      "source": [
        "def plot_attention_weights(attention, sentence, result, layer):\n",
        "  fig = plt.figure(figsize=(16, 8))\n",
        "  \n",
        "  sentence = tokenizer_tn.encode(sentence)\n",
        "  \n",
        "  attention = tf.squeeze(attention[layer], axis=0)\n",
        "  \n",
        "  for head in range(attention.shape[0]):\n",
        "    ax = fig.add_subplot(2, 4, head+1)\n",
        "    \n",
        "    # plot the attention weights\n",
        "    ax.matshow(attention[head][:-1, :], cmap='viridis')\n",
        "\n",
        "    fontdict = {'fontsize': 10}\n",
        "    \n",
        "    ax.set_xticks(range(len(sentence)+2))\n",
        "    ax.set_yticks(range(len(result)))\n",
        "    \n",
        "    ax.set_ylim(len(result)-1.5, -0.5)\n",
        "        \n",
        "    ax.set_xticklabels(\n",
        "        ['<start>']+[tokenizer_tn.decode([i]) for i in sentence]+['<end>'], \n",
        "        fontdict=fontdict, rotation=90)\n",
        "    \n",
        "    ax.set_yticklabels([tokenizer_en.decode([i]) for i in result \n",
        "                        if i < tokenizer_en.vocab_size], \n",
        "                       fontdict=fontdict)\n",
        "    \n",
        "    ax.set_xlabel('Head {}'.format(head+1))\n",
        "  \n",
        "  plt.tight_layout()\n",
        "  plt.show()"
      ],
      "execution_count": 87,
      "outputs": []
    },
    {
      "cell_type": "code",
      "metadata": {
        "id": "2FMwHndf8s16"
      },
      "source": [
        "def translate(sentence, plot=''):\n",
        "  result, attention_weights = evaluate(sentence)\n",
        "  \n",
        "  predicted_sentence = tokenizer_en.decode([i for i in result \n",
        "                                            if i < tokenizer_en.vocab_size])  \n",
        "\n",
        "  print('Input: {}'.format(sentence))\n",
        "  print('Predicted translation: {}'.format(predicted_sentence))\n",
        "  \n",
        "  if plot:\n",
        "    plot_attention_weights(attention_weights, sentence, result, plot)"
      ],
      "execution_count": 88,
      "outputs": []
    },
    {
      "cell_type": "code",
      "metadata": {
        "id": "YSTrPL5s8vTt",
        "colab": {
          "base_uri": "https://localhost:8080/"
        },
        "outputId": "39d3b863-359c-42c4-99ea-1c5c3670a1ea"
      },
      "source": [
        "translate(\"مَهُوشْ رَاضِي عَلَى عِيشْتُو\")\n"
      ],
      "execution_count": 89,
      "outputs": [
        {
          "output_type": "stream",
          "name": "stdout",
          "text": [
            "Input: مَهُوشْ رَاضِي عَلَى عِيشْتُو\n",
            "Predicted translation: unsatisfied with life\n"
          ]
        }
      ]
    },
    {
      "cell_type": "code",
      "metadata": {
        "id": "UcEouLsyHXVA",
        "colab": {
          "base_uri": "https://localhost:8080/"
        },
        "outputId": "cfbecce6-946f-4824-90cc-fb2ed778d403"
      },
      "source": [
        "translate(\"يا عمي تعطيني كعيبتين سفنج ونعطيك ه البهيم؟\")\n"
      ],
      "execution_count": 90,
      "outputs": [
        {
          "output_type": "stream",
          "name": "stdout",
          "text": [
            "Input: هذاكا فلوسو برشا\n",
            "Predicted translation: he does not his mind, what he wants\n"
          ]
        }
      ]
    },
    {
      "cell_type": "code",
      "metadata": {
        "id": "Q6VOsXywHiKK",
        "colab": {
          "base_uri": "https://localhost:8080/"
        },
        "outputId": "125386fb-b087-4835-99b7-5e986f00f1f0"
      },
      "source": [
        "translate(\"عندي رنديفو غدوة الصباح\")\n"
      ],
      "execution_count": 91,
      "outputs": [
        {
          "output_type": "stream",
          "name": "stdout",
          "text": [
            "Input: عندي رنديفو غدوة الصباح\n",
            "Predicted translation: I have a meeting tomorrow.\n"
          ]
        }
      ]
    },
    {
      "cell_type": "code",
      "metadata": {
        "id": "R5ttMLCOHo4C",
        "colab": {
          "base_uri": "https://localhost:8080/",
          "height": 551
        },
        "outputId": "cbe14625-2e26-48d5-ad50-5efc12821fd3"
      },
      "source": [
        "translate(\"فما فستفال فالحمامات غدوا\", plot='decoder_layer4_block2')"
      ],
      "execution_count": 92,
      "outputs": [
        {
          "output_type": "stream",
          "name": "stdout",
          "text": [
            "Input: فما فستفال فالحمامات غدوا\n",
            "Predicted translation: There is a festival in Hammamat tomorrow.\n"
          ]
        },
        {
          "output_type": "display_data",
          "data": {
            "image/png": "[encoded data removed]",
            "text/plain": [
              "<Figure size 1152x576 with 8 Axes>"
            ]
          },
          "metadata": {
            "needs_background": "light"
          }
        }
      ]
    },
    {
      "cell_type": "code",
      "metadata": {
        "id": "s5NBaYKNH-d8"
      },
      "source": [
        "\n",
        "def uni_bleu(references, sentence):\n",
        "    \"\"\"function  that calculates the unigram BLEU score for a sentence\"\"\"\n",
        "    c = len(sentence)\n",
        "    bp = brevity_penalty(sentence, references)\n",
        "    words = count_clip_ngram(sentence, references)\n",
        "    p = sum(words.values())\n",
        "    return bp * p / c\n",
        "\n",
        "\n",
        "def brevity_penalty(candidate, references):\n",
        "    \"\"\"\n",
        "    Brevity Penalty\n",
        "    BP={1 if c>r or exp(1−r/c)if c≤r\n",
        "    c: length of candidate translation\n",
        "    r: effective reference length\n",
        "    \"\"\"\n",
        "    c = len(candidate)\n",
        "    r = np.array([len(r) for r in references])\n",
        "    r = np.argmin(np.abs(r - c))\n",
        "    r = len(references[r])\n",
        "    if c > r:\n",
        "        return 1\n",
        "    else:\n",
        "        return np.exp(1 - float(r) / c)\n",
        "\n",
        "\n",
        "def count_clip_ngram(sentence, references):\n",
        "    \"\"\"\n",
        "    Countclip=min(Count,Max_Ref_Count)\n",
        "    \"\"\"\n",
        "    words = dict()\n",
        "    for word in sentence:\n",
        "        for ref in references:\n",
        "            if word in words:\n",
        "                if words[word] < ref.count(word):\n",
        "                    words.update({word: ref.count(word)})\n",
        "            else:\n",
        "                words.update({word: ref.count(word)})\n",
        "    return words\n"
      ],
      "execution_count": 93,
      "outputs": []
    },
    {
      "cell_type": "code",
      "metadata": {
        "id": "kE91iyR-Jl4z"
      },
      "source": [
        "references = []\n",
        "tar_tokenizer = []\n",
        "\n",
        "for eng in df['tn']:\n",
        "  references.append(eng)\n",
        "for eng in df['en']:\n",
        "  tar_tokenizer.append(eng)\n",
        "sentence = \"عرضها راجلها قالها يا مهبولة آش تعمل! قتلو شبيك علااش ؟\".split()\n"
      ],
      "execution_count": 126,
      "outputs": []
    },
    {
      "cell_type": "code",
      "metadata": {
        "colab": {
          "base_uri": "https://localhost:8080/"
        },
        "id": "hRGnncImJyYP",
        "outputId": "6e19548a-7815-4ab6-e1a1-bb9640567248"
      },
      "source": [
        "sentence = \"يا عمي تعطيني كعيبتين سفنج ونعطيك ه البهيم؟\".split()\n",
        "print(uni_bleu(references, sentence))"
      ],
      "execution_count": 96,
      "outputs": [
        {
          "output_type": "stream",
          "name": "stdout",
          "text": [
            "0.75\n"
          ]
        }
      ]
    }
  ]
}